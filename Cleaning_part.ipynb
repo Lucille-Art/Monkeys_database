{
 "cells": [
  {
   "cell_type": "code",
   "execution_count": null,
   "metadata": {},
   "outputs": [],
   "source": [
    "import pandas as pd\n",
    "import numpy as np\n",
    "import os"
   ]
  },
  {
   "cell_type": "code",
   "execution_count": null,
   "metadata": {},
   "outputs": [],
   "source": [
    "os.listdir()"
   ]
  },
  {
   "cell_type": "code",
   "execution_count": null,
   "metadata": {},
   "outputs": [],
   "source": [
    "df1=pd.read_csv('Status_IUCN.csv', encoding = 'latin-1')\n",
    "df1"
   ]
  },
  {
   "cell_type": "code",
   "execution_count": null,
   "metadata": {},
   "outputs": [],
   "source": [
    "df1.drop('Unnamed: 0', axis=1, inplace=True)"
   ]
  },
  {
   "cell_type": "code",
   "execution_count": null,
   "metadata": {},
   "outputs": [],
   "source": [
    "df1[df1.CommonName.isna()]"
   ]
  },
  {
   "cell_type": "code",
   "execution_count": null,
   "metadata": {},
   "outputs": [],
   "source": [
    "df1.CommonName.value_counts()"
   ]
  },
  {
   "cell_type": "code",
   "execution_count": null,
   "metadata": {},
   "outputs": [],
   "source": [
    "df1.loc[df1.CommonName=='Black_headed_Uacari', 'Status']='VU'"
   ]
  },
  {
   "cell_type": "code",
   "execution_count": null,
   "metadata": {},
   "outputs": [],
   "source": [
    "df1.loc[df1.CommonName=='Mountain_Dwarf_Galago']\n",
    "#df1 = df1.drop(344)"
   ]
  },
  {
   "cell_type": "code",
   "execution_count": null,
   "metadata": {},
   "outputs": [],
   "source": [
    "df1.loc[df1.CommonName=='Black_crowned_Dwarf_Marmoset']\n",
    "df1=df1.drop(279)\n"
   ]
  },
  {
   "cell_type": "code",
   "execution_count": null,
   "metadata": {},
   "outputs": [],
   "source": [
    "df1.loc[df1.CommonName=='Tanzania_Coast_Dwarf_Galago']\n",
    "df1=df1.drop(346)\n"
   ]
  },
  {
   "cell_type": "code",
   "execution_count": null,
   "metadata": {},
   "outputs": [],
   "source": [
    "df1.loc[df1.CommonName=='Rondo_Dwarf_Galago']\n",
    "df1=df1.drop(345)\n"
   ]
  },
  {
   "cell_type": "code",
   "execution_count": null,
   "metadata": {},
   "outputs": [],
   "source": [
    "df1.CommonName.value_counts()\n"
   ]
  },
  {
   "cell_type": "code",
   "execution_count": null,
   "metadata": {},
   "outputs": [],
   "source": [
    "df1.loc[df1.CommonName=='Kenya_Coast_Dwarf_Galago']\n",
    "df1=df1.drop(342)\n"
   ]
  },
  {
   "cell_type": "code",
   "execution_count": null,
   "metadata": {},
   "outputs": [],
   "source": [
    "df1.loc[df1.CommonName=='Black_headed_Uacari']\n",
    "df1=df1.drop(51)\n"
   ]
  },
  {
   "cell_type": "code",
   "execution_count": null,
   "metadata": {},
   "outputs": [],
   "source": [
    "df1.loc[df1.CommonName=='Mozambique_Dwarf_Galago']\n",
    "df1=df1.drop(343)\n"
   ]
  },
  {
   "cell_type": "code",
   "execution_count": null,
   "metadata": {},
   "outputs": [],
   "source": [
    "os.chdir('Cleaned DF')"
   ]
  },
  {
   "cell_type": "code",
   "execution_count": null,
   "metadata": {},
   "outputs": [],
   "source": [
    "df1.to_csv('IUCN_Status.csv')"
   ]
  },
  {
   "cell_type": "code",
   "execution_count": null,
   "metadata": {},
   "outputs": [],
   "source": [
    "os.chdir('/Users/lucilleartigaud/Ironhack/Cours/806_Repo/Projects/PROJECT_WEEK_5')\n",
    "df2=pd.read_csv('df_habitat_cleaned.csv', encoding = 'latin-1')"
   ]
  },
  {
   "cell_type": "code",
   "execution_count": null,
   "metadata": {},
   "outputs": [],
   "source": [
    "df2.drop('Unnamed: 0', axis=1, inplace=True)"
   ]
  },
  {
   "cell_type": "code",
   "execution_count": null,
   "metadata": {},
   "outputs": [],
   "source": [
    "df2.CommonName.value_counts()"
   ]
  },
  {
   "cell_type": "code",
   "execution_count": null,
   "metadata": {},
   "outputs": [],
   "source": [
    "df2.loc[df2.CommonName=='Black_headed_Uacari']\n",
    "df2=df2.drop(50)"
   ]
  },
  {
   "cell_type": "code",
   "execution_count": null,
   "metadata": {},
   "outputs": [],
   "source": [
    "df2.loc[df2.CommonName=='Mountain_Dwarf_Galago']\n",
    "df2=df2.drop(344)\n"
   ]
  },
  {
   "cell_type": "code",
   "execution_count": null,
   "metadata": {},
   "outputs": [],
   "source": [
    "df2.loc[df2.CommonName=='Black_crowned_Dwarf_Marmoset']\n",
    "df2=df2.drop(279)\n"
   ]
  },
  {
   "cell_type": "code",
   "execution_count": null,
   "metadata": {},
   "outputs": [],
   "source": [
    "df2.loc[df2.CommonName=='Tanzania_Coast_Dwarf_Galago']\n",
    "df2 = df2.drop(346)\n"
   ]
  },
  {
   "cell_type": "code",
   "execution_count": null,
   "metadata": {},
   "outputs": [],
   "source": [
    "df2.loc[df2.CommonName=='Rondo_Dwarf_Galago']\n",
    "df2=df2.drop(345)\n"
   ]
  },
  {
   "cell_type": "code",
   "execution_count": null,
   "metadata": {},
   "outputs": [],
   "source": [
    "df2.CommonName.value_counts()"
   ]
  },
  {
   "cell_type": "code",
   "execution_count": null,
   "metadata": {},
   "outputs": [],
   "source": [
    "df2.loc[df2.CommonName=='Kenya_Coast_Dwarf_Galago']\n",
    "df2=df2.drop(342)"
   ]
  },
  {
   "cell_type": "code",
   "execution_count": null,
   "metadata": {},
   "outputs": [],
   "source": [
    "df2.loc[df2.CommonName=='Mozambique_Dwarf_Galago']\n",
    "df2=df2.drop(343)"
   ]
  },
  {
   "cell_type": "code",
   "execution_count": null,
   "metadata": {},
   "outputs": [],
   "source": [
    "df2.isna().sum()"
   ]
  },
  {
   "cell_type": "code",
   "execution_count": null,
   "metadata": {},
   "outputs": [],
   "source": [
    "df1.isna().sum()"
   ]
  },
  {
   "cell_type": "code",
   "execution_count": null,
   "metadata": {},
   "outputs": [],
   "source": [
    "df1.Status = df1.fillna('Unrated')"
   ]
  },
  {
   "cell_type": "code",
   "execution_count": null,
   "metadata": {},
   "outputs": [],
   "source": [
    "os.chdir('Cleaned DF')\n",
    "df1.to_csv('IUCN_Status.csv')"
   ]
  },
  {
   "cell_type": "code",
   "execution_count": null,
   "metadata": {},
   "outputs": [],
   "source": [
    "df2.to_csv('Cleaned Habitat')"
   ]
  },
  {
   "cell_type": "code",
   "execution_count": null,
   "metadata": {},
   "outputs": [],
   "source": [
    "os.chdir('/Users/lucilleartigaud/Ironhack/Cours/806_Repo/Projects/PROJECT_WEEK_5')\n"
   ]
  },
  {
   "cell_type": "code",
   "execution_count": null,
   "metadata": {},
   "outputs": [],
   "source": [
    "os.chdir('Cleaned DF')\n",
    "\n"
   ]
  },
  {
   "cell_type": "code",
   "execution_count": null,
   "metadata": {},
   "outputs": [],
   "source": []
  },
  {
   "cell_type": "code",
   "execution_count": null,
   "metadata": {},
   "outputs": [],
   "source": [
    "df1.shape"
   ]
  },
  {
   "cell_type": "code",
   "execution_count": null,
   "metadata": {},
   "outputs": [],
   "source": [
    "df1"
   ]
  },
  {
   "cell_type": "code",
   "execution_count": null,
   "metadata": {},
   "outputs": [],
   "source": [
    "df2"
   ]
  },
  {
   "cell_type": "code",
   "execution_count": null,
   "metadata": {},
   "outputs": [],
   "source": [
    "pd.concat([df1,df2], axis=1)"
   ]
  },
  {
   "cell_type": "code",
   "execution_count": null,
   "metadata": {},
   "outputs": [],
   "source": [
    "os.chdir('/Users/lucilleartigaud/Ironhack/Cours/806_Repo/Projects/PROJECT_WEEK_5')\n",
    "\n",
    "df1=pd.read_csv('Status_IUCN.csv', encoding='latin-1')\n",
    "df1"
   ]
  },
  {
   "cell_type": "code",
   "execution_count": null,
   "metadata": {},
   "outputs": [],
   "source": [
    "df1.drop('Unnamed: 0', axis=1, inplace=True)"
   ]
  },
  {
   "cell_type": "code",
   "execution_count": null,
   "metadata": {},
   "outputs": [],
   "source": [
    "df1.drop(['Family', 'Genus'], axis=1, inplace=True)"
   ]
  },
  {
   "cell_type": "code",
   "execution_count": null,
   "metadata": {},
   "outputs": [],
   "source": [
    "df1.CommonName.value_counts()"
   ]
  },
  {
   "cell_type": "code",
   "execution_count": null,
   "metadata": {},
   "outputs": [],
   "source": [
    "df1.loc[df1.CommonName=='Black_headed_Uacari']\n",
    "df1=df1.drop(51)"
   ]
  },
  {
   "cell_type": "code",
   "execution_count": null,
   "metadata": {},
   "outputs": [],
   "source": [
    "df1.loc[df1.CommonName=='Mountain_Dwarf_Galago']\n",
    "df1=df1.drop(344)\n"
   ]
  },
  {
   "cell_type": "code",
   "execution_count": null,
   "metadata": {},
   "outputs": [],
   "source": [
    "df1.loc[df1.CommonName=='Black_crowned_Dwarf_Marmoset']\n",
    "df1=df1.drop(279)\n"
   ]
  },
  {
   "cell_type": "code",
   "execution_count": null,
   "metadata": {},
   "outputs": [],
   "source": [
    "df1.loc[df1.CommonName=='Tanzania_Coast_Dwarf_Galago']\n",
    "df1=df1.drop(346)"
   ]
  },
  {
   "cell_type": "code",
   "execution_count": null,
   "metadata": {},
   "outputs": [],
   "source": [
    "df1.loc[df1.CommonName=='Rondo_Dwarf_Galago']\n",
    "df1=df1.drop(345)\n"
   ]
  },
  {
   "cell_type": "code",
   "execution_count": null,
   "metadata": {},
   "outputs": [],
   "source": [
    "df1.CommonName.value_counts()"
   ]
  },
  {
   "cell_type": "code",
   "execution_count": null,
   "metadata": {},
   "outputs": [],
   "source": [
    "df1.loc[df1.CommonName=='Mozambique_Dwarf_Galago']\n",
    "df1=df1.drop(343)"
   ]
  },
  {
   "cell_type": "code",
   "execution_count": null,
   "metadata": {},
   "outputs": [],
   "source": [
    "df1.loc[df1.CommonName=='Kenya_Coast_Dwarf_Galago']\n",
    "df1=df1.drop(342)\n"
   ]
  },
  {
   "cell_type": "code",
   "execution_count": null,
   "metadata": {},
   "outputs": [],
   "source": []
  },
  {
   "cell_type": "code",
   "execution_count": null,
   "metadata": {},
   "outputs": [],
   "source": [
    "df1.Status=df1.Status.fillna('Unrated')\n"
   ]
  },
  {
   "cell_type": "code",
   "execution_count": null,
   "metadata": {},
   "outputs": [],
   "source": [
    "df1.dropna(subset = [\"CommonName\"], inplace=True)"
   ]
  },
  {
   "cell_type": "code",
   "execution_count": null,
   "metadata": {},
   "outputs": [],
   "source": [
    "df1.isna().sum()"
   ]
  },
  {
   "cell_type": "code",
   "execution_count": null,
   "metadata": {},
   "outputs": [],
   "source": [
    "os.chdir('Cleaned DF')\n",
    "df1.to_csv('IUCN.csv')"
   ]
  },
  {
   "cell_type": "code",
   "execution_count": null,
   "metadata": {},
   "outputs": [],
   "source": [
    "df1"
   ]
  },
  {
   "cell_type": "code",
   "execution_count": null,
   "metadata": {},
   "outputs": [],
   "source": [
    "df2=pd.read_csv('Cleaned Habitat', encoding='latin-1')\n",
    "df2"
   ]
  },
  {
   "cell_type": "code",
   "execution_count": null,
   "metadata": {},
   "outputs": [],
   "source": [
    "df2.drop('Unnamed: 0', axis=1, inplace=True)"
   ]
  },
  {
   "cell_type": "code",
   "execution_count": null,
   "metadata": {},
   "outputs": [],
   "source": [
    "df2.dropna(subset = [\"CommonName\"], inplace=True)"
   ]
  },
  {
   "cell_type": "code",
   "execution_count": null,
   "metadata": {},
   "outputs": [],
   "source": [
    "df2.drop(['Family', 'Genus'], axis=1, inplace=True)"
   ]
  },
  {
   "cell_type": "code",
   "execution_count": null,
   "metadata": {},
   "outputs": [],
   "source": [
    "df2.to_csv('Cleaned Habitat')"
   ]
  },
  {
   "cell_type": "code",
   "execution_count": null,
   "metadata": {},
   "outputs": [],
   "source": [
    "df1.join(df2,on='CommonName')"
   ]
  },
  {
   "cell_type": "code",
   "execution_count": null,
   "metadata": {},
   "outputs": [],
   "source": [
    "df1.set_index('CommonName')\n",
    "df2.set_index('CommonName')"
   ]
  },
  {
   "cell_type": "code",
   "execution_count": null,
   "metadata": {},
   "outputs": [],
   "source": [
    "df1"
   ]
  },
  {
   "cell_type": "code",
   "execution_count": null,
   "metadata": {},
   "outputs": [],
   "source": [
    "df1.set_index('CommonName').join(df2.set_index('CommonName'))\n",
    "\n",
    "df_hab_stat=df1.set_index('CommonName').join(df2.set_index('CommonName'))\n",
    "df_hab_stat.to_csv('DF with joined habitat & status')"
   ]
  },
  {
   "cell_type": "code",
   "execution_count": null,
   "metadata": {},
   "outputs": [],
   "source": [
    "os.chdir('/Users/lucilleartigaud/Ironhack/Cours/806_Repo/Projects/PROJECT_WEEK_5')\n",
    "df3=pd.read_csv('BodyMass_cleaned.csv', encoding='latin-1')\n",
    "df3"
   ]
  },
  {
   "cell_type": "code",
   "execution_count": null,
   "metadata": {},
   "outputs": [],
   "source": [
    "df3.drop('Unnamed: 0', axis=1, inplace=True)"
   ]
  },
  {
   "cell_type": "code",
   "execution_count": null,
   "metadata": {},
   "outputs": [],
   "source": [
    "df3"
   ]
  },
  {
   "cell_type": "code",
   "execution_count": null,
   "metadata": {},
   "outputs": [],
   "source": [
    "df3.CommonName.value_counts()"
   ]
  },
  {
   "cell_type": "code",
   "execution_count": null,
   "metadata": {},
   "outputs": [],
   "source": [
    "mean = df3.loc[df3.CommonName=='Fat_tailed_Dwarf_Lemur', 'Average_Weight'].mean()"
   ]
  },
  {
   "cell_type": "code",
   "execution_count": null,
   "metadata": {},
   "outputs": [],
   "source": [
    "df3.loc[df3.CommonName=='Fat_tailed_Dwarf_Lemur', 'Average_Weight']=mean"
   ]
  },
  {
   "cell_type": "code",
   "execution_count": null,
   "metadata": {},
   "outputs": [],
   "source": [
    "df3.loc[df3.CommonName=='Fat_tailed_Dwarf_Lemur', 'Average_Weight']"
   ]
  },
  {
   "cell_type": "code",
   "execution_count": null,
   "metadata": {},
   "outputs": [],
   "source": [
    "df3=df3.drop([140,141])"
   ]
  },
  {
   "cell_type": "code",
   "execution_count": null,
   "metadata": {},
   "outputs": [],
   "source": [
    "def fn(name):\n",
    "    mean = df3.loc[df3.CommonName==name, 'Average_Weight'].mean()\n",
    "    df3.loc[df3.CommonName==name, 'Average_Weight']=mean\n",
    "    return df3.loc[df3.CommonName==name, 'Average_Weight']"
   ]
  },
  {
   "cell_type": "code",
   "execution_count": null,
   "metadata": {},
   "outputs": [],
   "source": [
    "fn('Rufous_Brown_Lemur')\n",
    "df3=df3.drop([199,200])"
   ]
  },
  {
   "cell_type": "code",
   "execution_count": null,
   "metadata": {},
   "outputs": [],
   "source": [
    "fn('Black_Lemur')\n",
    "df3=df3.drop([190,191])"
   ]
  },
  {
   "cell_type": "code",
   "execution_count": null,
   "metadata": {},
   "outputs": [],
   "source": []
  },
  {
   "cell_type": "code",
   "execution_count": null,
   "metadata": {},
   "outputs": [],
   "source": [
    "df3.CommonName.value_counts()"
   ]
  },
  {
   "cell_type": "code",
   "execution_count": null,
   "metadata": {},
   "outputs": [],
   "source": [
    "fn('Gray_Bamboo_Lemur')\n",
    "df3=df3.drop([224,225])"
   ]
  },
  {
   "cell_type": "code",
   "execution_count": null,
   "metadata": {},
   "outputs": [],
   "source": [
    "fn('Verreaux_s_Sifaka')\n",
    "df3=df3.drop([535,536])"
   ]
  },
  {
   "cell_type": "code",
   "execution_count": null,
   "metadata": {},
   "outputs": [],
   "source": [
    "fn('Medem_s_Titi')\n",
    "df3=df3.drop(149)"
   ]
  },
  {
   "cell_type": "code",
   "execution_count": null,
   "metadata": {},
   "outputs": [],
   "source": [
    "fn('Goodman_s_Mouse_Lemur')\n",
    "df3=df3.drop(371)"
   ]
  },
  {
   "cell_type": "code",
   "execution_count": null,
   "metadata": {},
   "outputs": [],
   "source": [
    "df3.CommonName.value_counts()"
   ]
  },
  {
   "cell_type": "code",
   "execution_count": null,
   "metadata": {},
   "outputs": [],
   "source": [
    "fn('Mozambique_Dwarf_Galago')\n",
    "df3=df3.drop([212,427])"
   ]
  },
  {
   "cell_type": "code",
   "execution_count": null,
   "metadata": {},
   "outputs": [],
   "source": [
    "fn('Nosy_Be_Mouse_Lemur')\n",
    "df3=df3.drop(374)"
   ]
  },
  {
   "cell_type": "code",
   "execution_count": null,
   "metadata": {},
   "outputs": [],
   "source": [
    "fn('Hatinh_Langur')\n",
    "df3=df3.drop(613)"
   ]
  },
  {
   "cell_type": "code",
   "execution_count": null,
   "metadata": {},
   "outputs": [],
   "source": [
    "fn('Tattersall_s_Sifaka')\n",
    "df3=df3.drop(533)"
   ]
  },
  {
   "cell_type": "code",
   "execution_count": null,
   "metadata": {},
   "outputs": [],
   "source": [
    "fn('Black_headed_Uacari')\n",
    "df3=df3.drop(64)"
   ]
  },
  {
   "cell_type": "code",
   "execution_count": null,
   "metadata": {},
   "outputs": [],
   "source": [
    "df3.shape"
   ]
  },
  {
   "cell_type": "code",
   "execution_count": null,
   "metadata": {},
   "outputs": [],
   "source": [
    "df3.CommonName.value_counts()"
   ]
  },
  {
   "cell_type": "code",
   "execution_count": null,
   "metadata": {},
   "outputs": [],
   "source": [
    "def fn(name, df3=df3):\n",
    "\n",
    "    mean = df3.loc[df3.CommonName==name, 'Average_Weight'].mean()\n",
    "    df3.loc[df3.CommonName==name, 'Average_Weight']=mean\n",
    "    todrop = df3.loc[df3.CommonName==name, 'Average_Weight'].index[1]\n",
    "    df3=df3.drop(todrop)\n",
    "    return df3.loc[df3.CommonName==name]"
   ]
  },
  {
   "cell_type": "code",
   "execution_count": null,
   "metadata": {},
   "outputs": [],
   "source": [
    "df3.loc[df3.CommonName=='Southern_Bahian_Titi', 'Average_Weight'].index"
   ]
  },
  {
   "cell_type": "code",
   "execution_count": null,
   "metadata": {},
   "outputs": [],
   "source": [
    "fn('Southern_Bahian_Titi')"
   ]
  },
  {
   "cell_type": "code",
   "execution_count": null,
   "metadata": {},
   "outputs": [],
   "source": [
    "df3=df3.drop(df3.loc[df3.CommonName=='Southern_Bahian_Titi', 'Average_Weight'].index[1])"
   ]
  },
  {
   "cell_type": "code",
   "execution_count": null,
   "metadata": {},
   "outputs": [],
   "source": [
    "fn('Vervet_Monkey')"
   ]
  },
  {
   "cell_type": "code",
   "execution_count": null,
   "metadata": {},
   "outputs": [],
   "source": [
    "df3.CommonName.value_counts()"
   ]
  },
  {
   "cell_type": "code",
   "execution_count": null,
   "metadata": {},
   "outputs": [],
   "source": [
    "df3.loc[df3.CommonName=='Delacour_s_Langur']"
   ]
  },
  {
   "cell_type": "code",
   "execution_count": null,
   "metadata": {},
   "outputs": [],
   "source": [
    "fn('Delacour_s_Langur')"
   ]
  },
  {
   "cell_type": "code",
   "execution_count": null,
   "metadata": {},
   "outputs": [],
   "source": [
    "fn('Tsiombikibo_Sportive_Lemur')"
   ]
  },
  {
   "cell_type": "code",
   "execution_count": null,
   "metadata": {},
   "outputs": [],
   "source": [
    "fn('Red_fronted_Brown_Lemur')"
   ]
  },
  {
   "cell_type": "code",
   "execution_count": null,
   "metadata": {},
   "outputs": [],
   "source": [
    "fn('Tantalus_Monkey')"
   ]
  },
  {
   "cell_type": "code",
   "execution_count": null,
   "metadata": {},
   "outputs": [],
   "source": [
    "fn('Northern_Bamboo_Lemur')"
   ]
  },
  {
   "cell_type": "code",
   "execution_count": null,
   "metadata": {},
   "outputs": [],
   "source": [
    "df3.CommonName.value_counts()"
   ]
  },
  {
   "cell_type": "code",
   "execution_count": null,
   "metadata": {},
   "outputs": [],
   "source": [
    "fn('Delacour_s_Langur')"
   ]
  },
  {
   "cell_type": "code",
   "execution_count": null,
   "metadata": {},
   "outputs": [],
   "source": [
    "df3.CommonName.value_counts()"
   ]
  },
  {
   "cell_type": "code",
   "execution_count": null,
   "metadata": {},
   "outputs": [],
   "source": [
    "def fn(name, df3=df3):\n",
    "\n",
    "    mean = df3.loc[df3.CommonName==name, 'Average_Weight'].mean()\n",
    "    df3.loc[df3.CommonName==name, 'Average_Weight']=mean\n",
    "    \n",
    "    return df3.loc[df3.CommonName==name, 'Average_Weight'].index[1]\n",
    "\n",
    "def todrop(name, df3=df3):\n",
    "    todrop = df3.loc[df3.CommonName==name, 'Average_Weight'].index[1]\n",
    "    df3=df3.drop(todrop)\n",
    "    \n",
    "    return df3.loc[df3.CommonName==name]"
   ]
  },
  {
   "cell_type": "code",
   "execution_count": null,
   "metadata": {},
   "outputs": [],
   "source": [
    "df3.CommonName.value_counts()"
   ]
  },
  {
   "cell_type": "code",
   "execution_count": null,
   "metadata": {},
   "outputs": [],
   "source": [
    "fn('Mittermeier_s_Sportive_Lemur')"
   ]
  },
  {
   "cell_type": "code",
   "execution_count": null,
   "metadata": {},
   "outputs": [],
   "source": [
    "df3=df3.drop(290)"
   ]
  },
  {
   "cell_type": "code",
   "execution_count": null,
   "metadata": {},
   "outputs": [],
   "source": [
    "fn('Red_fronted_Brown_Lemur')"
   ]
  },
  {
   "cell_type": "code",
   "execution_count": null,
   "metadata": {},
   "outputs": [],
   "source": [
    "df3=df3.drop(197)"
   ]
  },
  {
   "cell_type": "code",
   "execution_count": null,
   "metadata": {},
   "outputs": [],
   "source": [
    "fn('Tantalus_Monkey')"
   ]
  },
  {
   "cell_type": "code",
   "execution_count": null,
   "metadata": {},
   "outputs": [],
   "source": [
    "df3=df3.drop(168)"
   ]
  },
  {
   "cell_type": "code",
   "execution_count": null,
   "metadata": {},
   "outputs": [],
   "source": [
    "df3.shape"
   ]
  },
  {
   "cell_type": "code",
   "execution_count": null,
   "metadata": {},
   "outputs": [],
   "source": [
    "fn('Northern_Bamboo_Lemur')\n",
    "df3=df3.drop(229)"
   ]
  },
  {
   "cell_type": "code",
   "execution_count": null,
   "metadata": {},
   "outputs": [],
   "source": [
    "fn('Bemaraha_Woolly_Lemur')\n",
    "df3=df3.drop(47)"
   ]
  },
  {
   "cell_type": "code",
   "execution_count": null,
   "metadata": {},
   "outputs": [],
   "source": [
    "df3.CommonName.value_counts()"
   ]
  },
  {
   "cell_type": "code",
   "execution_count": null,
   "metadata": {},
   "outputs": [],
   "source": [
    "fn('Greater_Bamboo_Lemur')\n",
    "df3=df3.drop(519)"
   ]
  },
  {
   "cell_type": "code",
   "execution_count": null,
   "metadata": {},
   "outputs": [],
   "source": [
    "fn('Siberut_Macaque')\n",
    "df3=df3.drop(335)"
   ]
  },
  {
   "cell_type": "code",
   "execution_count": null,
   "metadata": {},
   "outputs": [],
   "source": [
    "fn('Tavaratra_Mouse_Lemur')\n",
    "df3=df3.drop(392)"
   ]
  },
  {
   "cell_type": "code",
   "execution_count": null,
   "metadata": {},
   "outputs": [],
   "source": [
    "fn('Coimbra_Filho_s_Titi')\n",
    "df3=df3.drop(70)"
   ]
  },
  {
   "cell_type": "code",
   "execution_count": null,
   "metadata": {},
   "outputs": [],
   "source": [
    "fn('Rufous_Mouse_Lemur')\n",
    "df3=df3.drop(386)"
   ]
  },
  {
   "cell_type": "code",
   "execution_count": null,
   "metadata": {},
   "outputs": [],
   "source": [
    "fn('Sanford_s_Brown_Lemur')\n",
    "df3=df3.drop(202)"
   ]
  },
  {
   "cell_type": "code",
   "execution_count": null,
   "metadata": {},
   "outputs": [],
   "source": [
    "fn('Peyrieras_s_Woolly_Lemur')\n",
    "df3=df3.drop(55)"
   ]
  },
  {
   "cell_type": "code",
   "execution_count": null,
   "metadata": {},
   "outputs": [],
   "source": [
    "fn('Peters_s_Mouse_Lemur')\n",
    "df3=df3.drop(382)"
   ]
  },
  {
   "cell_type": "code",
   "execution_count": null,
   "metadata": {},
   "outputs": [],
   "source": [
    "fn('Manombo_Sportive_Lemur')\n",
    "df3=df3.drop(282)"
   ]
  },
  {
   "cell_type": "code",
   "execution_count": null,
   "metadata": {},
   "outputs": [],
   "source": [
    "fn('Panamanian_White_faced_Capuchin')\n",
    "df3=df3.drop(93)"
   ]
  },
  {
   "cell_type": "code",
   "execution_count": null,
   "metadata": {},
   "outputs": [],
   "source": [
    "df3.CommonName.value_counts()"
   ]
  },
  {
   "cell_type": "code",
   "execution_count": null,
   "metadata": {},
   "outputs": [],
   "source": [
    "fn('Golden_brown_Mouse_Lemur')\n",
    "df3=df3.drop(384)"
   ]
  },
  {
   "cell_type": "code",
   "execution_count": null,
   "metadata": {},
   "outputs": [],
   "source": [
    "fn('Greater_Dwarf_Lemur')\n",
    "df3=df3.drop(138)"
   ]
  },
  {
   "cell_type": "code",
   "execution_count": null,
   "metadata": {},
   "outputs": [],
   "source": [
    "fn('Masoala_Fork_marked_Lemur')\n",
    "df3=df3.drop(437)"
   ]
  },
  {
   "cell_type": "code",
   "execution_count": null,
   "metadata": {},
   "outputs": [],
   "source": [
    "fn('Black_crowned_Dwarf_Marmoset')\n",
    "df3=df3.drop(349)"
   ]
  },
  {
   "cell_type": "code",
   "execution_count": null,
   "metadata": {},
   "outputs": [],
   "source": [
    "fn('Montagne_D__Ambre_Fork_marked_Lemur')\n",
    "df3=df3.drop(435)"
   ]
  },
  {
   "cell_type": "code",
   "execution_count": null,
   "metadata": {},
   "outputs": [],
   "source": [
    "fn('Kenya_Coast_Dwarf_Galago')\n",
    "df3=df3.drop(426)"
   ]
  },
  {
   "cell_type": "code",
   "execution_count": null,
   "metadata": {},
   "outputs": [],
   "source": [
    "fn('Ankarana_Sportive_Lemur')\n",
    "df3=df3.drop(269)"
   ]
  },
  {
   "cell_type": "code",
   "execution_count": null,
   "metadata": {},
   "outputs": [],
   "source": [
    "fn('Mountain_Dwarf_Galago')\n",
    "df3=df3.drop(428)"
   ]
  },
  {
   "cell_type": "code",
   "execution_count": null,
   "metadata": {},
   "outputs": [],
   "source": [
    "fn('Antafia_Sportive_Lemur')\n",
    "df3=df3.drop(265)"
   ]
  },
  {
   "cell_type": "code",
   "execution_count": null,
   "metadata": {},
   "outputs": [],
   "source": [
    "fn('Ka_apor_Capuchin')\n",
    "df3=df3.drop(95)"
   ]
  },
  {
   "cell_type": "code",
   "execution_count": null,
   "metadata": {},
   "outputs": [],
   "source": [
    "df3.CommonName.value_counts()"
   ]
  },
  {
   "cell_type": "code",
   "execution_count": null,
   "metadata": {},
   "outputs": [],
   "source": [
    "fn('Ambodimahabibo_Sportive_Lemur')\n",
    "df3=df3.drop(294)"
   ]
  },
  {
   "cell_type": "code",
   "execution_count": null,
   "metadata": {},
   "outputs": [],
   "source": [
    "fn('Anjiamangirana_Sportive_Lemur')\n",
    "df3=df3.drop(278)"
   ]
  },
  {
   "cell_type": "code",
   "execution_count": null,
   "metadata": {},
   "outputs": [],
   "source": [
    "fn('Black_and_white_Ruffed_Lemur')\n",
    "df3=df3.drop(628)"
   ]
  },
  {
   "cell_type": "code",
   "execution_count": null,
   "metadata": {},
   "outputs": [],
   "source": [
    "fn('Milne_Edwards_s_Sportive_Lemur')\n",
    "df3=df3.drop(275)"
   ]
  },
  {
   "cell_type": "code",
   "execution_count": null,
   "metadata": {},
   "outputs": [],
   "source": [
    "fn(\"Preuss_s_Monkey\")\n",
    "df3=df3.drop(7)"
   ]
  },
  {
   "cell_type": "code",
   "execution_count": null,
   "metadata": {},
   "outputs": [],
   "source": [
    "fn('Golden_bellied_Mangabey')\n",
    "df3=df3.drop(106)"
   ]
  },
  {
   "cell_type": "code",
   "execution_count": null,
   "metadata": {},
   "outputs": [],
   "source": [
    "fn('Small_toothed_Sportive_Lemur')\n",
    "df3=df3.drop(286)"
   ]
  },
  {
   "cell_type": "code",
   "execution_count": null,
   "metadata": {},
   "outputs": [],
   "source": [
    "def fn(name, df3=df3):\n",
    "\n",
    "    mean = df3.loc[df3.CommonName==name, 'Average_Weight'].mean()\n",
    "    df3.loc[df3.CommonName==name, 'Average_Weight']=mean\n",
    "    todrop = df3.loc[df3.CommonName==name, 'Average_Weight'].index[1]\n",
    "    return todrop"
   ]
  },
  {
   "cell_type": "code",
   "execution_count": null,
   "metadata": {},
   "outputs": [],
   "source": []
  },
  {
   "cell_type": "code",
   "execution_count": null,
   "metadata": {},
   "outputs": [],
   "source": []
  },
  {
   "cell_type": "code",
   "execution_count": null,
   "metadata": {},
   "outputs": [],
   "source": [
    "df3.loc[df3.CommonName=='Allen_s_Swamp_Monkey']"
   ]
  },
  {
   "cell_type": "code",
   "execution_count": null,
   "metadata": {},
   "outputs": [],
   "source": [
    "df=df3.drop(fn('Allen_s_Swamp_Monkey'))"
   ]
  },
  {
   "cell_type": "code",
   "execution_count": null,
   "metadata": {},
   "outputs": [],
   "source": []
  },
  {
   "cell_type": "code",
   "execution_count": null,
   "metadata": {},
   "outputs": [],
   "source": [
    "df3.loc[df3.CommonName=='Allen_s_Swamp_Monkey']"
   ]
  },
  {
   "cell_type": "code",
   "execution_count": null,
   "metadata": {},
   "outputs": [],
   "source": [
    "df3.CommonName.value_counts()"
   ]
  },
  {
   "cell_type": "code",
   "execution_count": null,
   "metadata": {},
   "outputs": [],
   "source": [
    "a=fn('Crowned_Lemur')\n",
    "df3=df3.drop(a)"
   ]
  },
  {
   "cell_type": "code",
   "execution_count": null,
   "metadata": {},
   "outputs": [],
   "source": [
    "a=fn('Brown_Lemur')\n",
    "df3=df3.drop(a)"
   ]
  },
  {
   "cell_type": "code",
   "execution_count": null,
   "metadata": {},
   "outputs": [],
   "source": [
    "a=fn('Decken_s_Sifaka')\n",
    "df3=df3.drop(a)"
   ]
  },
  {
   "cell_type": "code",
   "execution_count": null,
   "metadata": {},
   "outputs": [],
   "source": [
    "df3.CommonName.value_counts()"
   ]
  },
  {
   "cell_type": "code",
   "execution_count": null,
   "metadata": {},
   "outputs": [],
   "source": [
    "a=fn('Diademed_Sifaka')\n",
    "df3=df3.drop(a)"
   ]
  },
  {
   "cell_type": "code",
   "execution_count": null,
   "metadata": {},
   "outputs": [],
   "source": [
    "a=fn('Coquerel_s_Giant_Mouse_Lemur')\n",
    "df3=df3.drop(a)"
   ]
  },
  {
   "cell_type": "code",
   "execution_count": null,
   "metadata": {},
   "outputs": [],
   "source": [
    "df3.CommonName.value_counts()"
   ]
  },
  {
   "cell_type": "code",
   "execution_count": null,
   "metadata": {},
   "outputs": [],
   "source": [
    "df3.isna().sum()"
   ]
  },
  {
   "cell_type": "code",
   "execution_count": null,
   "metadata": {},
   "outputs": [],
   "source": [
    "df3.dropna(subset = [\"CommonName\"], inplace=True)"
   ]
  },
  {
   "cell_type": "code",
   "execution_count": null,
   "metadata": {},
   "outputs": [],
   "source": [
    "os.chdir('/Users/lucilleartigaud/Ironhack/Cours/806_Repo/Projects/PROJECT_WEEK_5/Cleaned DF')\n",
    "df=pd.read_csv('DF with joined habitat & status')\n",
    "\n",
    "\n",
    "df_joined = df.set_index('CommonName').join(df3.set_index('CommonName'))\n",
    "df_joined.to_csv('joined_habitat_IUCN_weight.csv')"
   ]
  },
  {
   "cell_type": "code",
   "execution_count": null,
   "metadata": {},
   "outputs": [],
   "source": [
    "df3.to_csv('weight.csv')"
   ]
  },
  {
   "cell_type": "code",
   "execution_count": null,
   "metadata": {},
   "outputs": [],
   "source": [
    "os.chdir('/Users/lucilleartigaud/Ironhack/Cours/806_Repo/Projects/PROJECT_WEEK_5')"
   ]
  },
  {
   "cell_type": "code",
   "execution_count": null,
   "metadata": {},
   "outputs": [],
   "source": [
    "df=pd.read_csv('HomeRange.csv', encoding='latin-1')"
   ]
  },
  {
   "cell_type": "code",
   "execution_count": null,
   "metadata": {},
   "outputs": [],
   "source": [
    "df.head()"
   ]
  },
  {
   "cell_type": "code",
   "execution_count": null,
   "metadata": {},
   "outputs": [],
   "source": [
    "df.drop(['Family', 'Genus', 'Species', 'Species (ITIS)', 'Low_range','High_range', 'N_groups', 'Method', 'Alternative_HomeRange_ha', 'Alternative_HomeRange_method', 'Study_duration_months', 'Refs'], axis=1, inplace=True)"
   ]
  },
  {
   "cell_type": "code",
   "execution_count": null,
   "metadata": {},
   "outputs": [],
   "source": [
    "df.drop('Mean_individuals', axis=1, inplace=True)"
   ]
  },
  {
   "cell_type": "code",
   "execution_count": null,
   "metadata": {},
   "outputs": [],
   "source": [
    "def fn(name, df=df):\n",
    "\n",
    "    mean = df.loc[df.CommonName==name, 'HomeRange_ha'].mean()\n",
    "    df.loc[df.CommonName==name, 'HomeRange_ha']=mean\n",
    "    \n",
    "    return df.loc[df.CommonName==name].index[1:]\n",
    "\n"
   ]
  },
  {
   "cell_type": "code",
   "execution_count": null,
   "metadata": {},
   "outputs": [],
   "source": [
    "df.CommonName.value_counts()"
   ]
  },
  {
   "cell_type": "code",
   "execution_count": null,
   "metadata": {},
   "outputs": [],
   "source": [
    "df.loc[df.CommonName=='Central_American_Spider_Monkey']"
   ]
  },
  {
   "cell_type": "code",
   "execution_count": null,
   "metadata": {},
   "outputs": [],
   "source": [
    "fn('Central_American_Spider_Monkey')\n",
    "df=df.drop([52, 53, 54, 55, 56, 57])"
   ]
  },
  {
   "cell_type": "code",
   "execution_count": null,
   "metadata": {},
   "outputs": [],
   "source": [
    "fn('White_bellied_Spider_Monkey')\n",
    "df=df.drop([44, 45, 46, 47, 48])"
   ]
  },
  {
   "cell_type": "code",
   "execution_count": null,
   "metadata": {},
   "outputs": [],
   "source": [
    "df.CommonName.value_counts()"
   ]
  },
  {
   "cell_type": "code",
   "execution_count": null,
   "metadata": {},
   "outputs": [],
   "source": [
    "fn('Colombian_White_faced_Capuchin')\n",
    "df=df.drop([115, 116, 117, 118, 119])"
   ]
  },
  {
   "cell_type": "code",
   "execution_count": null,
   "metadata": {},
   "outputs": [],
   "source": [
    "a=fn('Grivet_Monkey')\n",
    "df=df.drop(a)"
   ]
  },
  {
   "cell_type": "code",
   "execution_count": null,
   "metadata": {},
   "outputs": [],
   "source": [
    "df.loc[df.CommonName=='Grivet_Monkey']"
   ]
  },
  {
   "cell_type": "code",
   "execution_count": null,
   "metadata": {},
   "outputs": [],
   "source": [
    "a=fn('Japanese_Macaque')\n",
    "df=df.drop(a)"
   ]
  },
  {
   "cell_type": "code",
   "execution_count": null,
   "metadata": {},
   "outputs": [],
   "source": []
  },
  {
   "cell_type": "code",
   "execution_count": null,
   "metadata": {},
   "outputs": [],
   "source": [
    "a=fn('Pied_Tamarin')\n",
    "df=df.drop(a)"
   ]
  },
  {
   "cell_type": "code",
   "execution_count": null,
   "metadata": {},
   "outputs": [],
   "source": [
    "df.shape"
   ]
  },
  {
   "cell_type": "code",
   "execution_count": null,
   "metadata": {},
   "outputs": [],
   "source": [
    "df.CommonName.value_counts()"
   ]
  },
  {
   "cell_type": "code",
   "execution_count": null,
   "metadata": {},
   "outputs": [],
   "source": [
    "df.shape\n",
    "os.chdir('/Users/lucilleartigaud/Ironhack/Cours/806_Repo/Projects/PROJECT_WEEK_5/Cleaned DF')\n",
    "df.to_csv('home_range_cleaned.csv')\n"
   ]
  },
  {
   "cell_type": "code",
   "execution_count": null,
   "metadata": {},
   "outputs": [],
   "source": [
    "df1=pd.read_csv('joined_habitat_IUCN_weight.csv')\n",
    "\n",
    "\n",
    "df_joined = df.set_index('CommonName').join(df1.set_index('CommonName'))\n",
    "df_joined.to_csv('joined_habitat_IUCN_weight_homerange.csv')"
   ]
  },
  {
   "cell_type": "code",
   "execution_count": null,
   "metadata": {},
   "outputs": [],
   "source": [
    "os.chdir('/Users/lucilleartigaud/Ironhack/Cours/806_Repo/Projects/PROJECT_WEEK_5')\n",
    "df=pd.read_csv('Locomotion.csv', encoding='latin-1')"
   ]
  },
  {
   "cell_type": "code",
   "execution_count": null,
   "metadata": {},
   "outputs": [],
   "source": [
    "df.Locomotion.unique()"
   ]
  },
  {
   "cell_type": "code",
   "execution_count": null,
   "metadata": {},
   "outputs": [],
   "source": [
    "df.drop(['Family', 'Genus', 'Species', 'Species (ITIS)', 'Refs'], axis=1, inplace=True)"
   ]
  },
  {
   "cell_type": "code",
   "execution_count": null,
   "metadata": {},
   "outputs": [],
   "source": [
    "df.CommonName.value_counts()"
   ]
  },
  {
   "cell_type": "code",
   "execution_count": null,
   "metadata": {},
   "outputs": [],
   "source": [
    "df.loc[df.CommonName=='Olive_Baboon', 'Locomotion']='BOTH'\n",
    "df.loc[df.CommonName=='Olive_Baboon']\n",
    "df=df.drop(351)"
   ]
  },
  {
   "cell_type": "code",
   "execution_count": null,
   "metadata": {},
   "outputs": [],
   "source": [
    "df.loc[df.CommonName=='Pig_tailed_Langur', 'Locomotion']='BOTH'\n",
    "df.loc[df.CommonName=='Pig_tailed_Langur']\n",
    "df=df.drop(513)"
   ]
  },
  {
   "cell_type": "code",
   "execution_count": null,
   "metadata": {},
   "outputs": [],
   "source": [
    "df.loc[df.CommonName=='Stump_tailed_Macaque', 'Locomotion']='BOTH'\n",
    "df.loc[df.CommonName=='Stump_tailed_Macaque']\n",
    "df=df.drop(252)"
   ]
  },
  {
   "cell_type": "code",
   "execution_count": null,
   "metadata": {},
   "outputs": [],
   "source": [
    "df.loc[df.CommonName=='Francois_s_Langur', 'Locomotion']='BOTH'\n",
    "df.loc[df.CommonName=='Francois_s_Langur']\n",
    "df=df.drop(535)"
   ]
  },
  {
   "cell_type": "code",
   "execution_count": null,
   "metadata": {},
   "outputs": [],
   "source": [
    "\n",
    "df.loc[df.CommonName=='Siberut_Macaque', 'Locomotion']='T & AR'\n",
    "df.loc[df.CommonName=='Siberut_Macaque']\n",
    "df=df.drop(276)"
   ]
  },
  {
   "cell_type": "code",
   "execution_count": null,
   "metadata": {},
   "outputs": [],
   "source": [
    "df.loc[df.CommonName=='Black_headed_Uacari']\n",
    "df=df.drop(50)"
   ]
  },
  {
   "cell_type": "code",
   "execution_count": null,
   "metadata": {},
   "outputs": [],
   "source": [
    "df.dropna(subset = [\"CommonName\"], inplace=True)"
   ]
  },
  {
   "cell_type": "code",
   "execution_count": null,
   "metadata": {},
   "outputs": [],
   "source": [
    "df.loc[df.CommonName=='Chamba_Sacred_Langur']\n",
    "df.loc[df.CommonName=='Chamba_Sacred_Langur', 'Locomotion']='T & AR'\n",
    "df=df.drop(502)"
   ]
  },
  {
   "cell_type": "code",
   "execution_count": null,
   "metadata": {},
   "outputs": [],
   "source": [
    "os.chdir('/Users/lucilleartigaud/Ironhack/Cours/806_Repo/Projects/PROJECT_WEEK_5/Cleaned DF')\n",
    "df.to_csv('locomotion_cleand.csv')"
   ]
  },
  {
   "cell_type": "code",
   "execution_count": null,
   "metadata": {},
   "outputs": [],
   "source": [
    "df1=pd.read_csv('joined_habitat_IUCN_weight_homerange.csv', encoding='latin-1')\n",
    "\n",
    "df_joined = df.set_index('CommonName').join(df1.set_index('CommonName'))\n",
    "df_joined.to_csv('joined_habitat_IUCN_weight_homerange_locomotion.csv')"
   ]
  },
  {
   "cell_type": "code",
   "execution_count": null,
   "metadata": {},
   "outputs": [],
   "source": [
    "df_joined"
   ]
  },
  {
   "cell_type": "code",
   "execution_count": null,
   "metadata": {},
   "outputs": [],
   "source": [
    "os.chdir('/Users/lucilleartigaud/Ironhack/Cours/806_Repo/Projects/PROJECT_WEEK_5')\n",
    "df=pd.read_csv('DielActivity-3.csv', encoding='latin-1')\n",
    "df"
   ]
  },
  {
   "cell_type": "code",
   "execution_count": null,
   "metadata": {},
   "outputs": [],
   "source": [
    "df.drop(['Family', 'Genus', 'Species', 'Species (ITIS)', 'Refs'], axis=1, inplace=True)"
   ]
  },
  {
   "cell_type": "code",
   "execution_count": null,
   "metadata": {},
   "outputs": [],
   "source": [
    "df.DielActivity.value_counts()"
   ]
  },
  {
   "cell_type": "code",
   "execution_count": null,
   "metadata": {},
   "outputs": [],
   "source": [
    "df.CommonName.value_counts()"
   ]
  },
  {
   "cell_type": "code",
   "execution_count": null,
   "metadata": {},
   "outputs": [],
   "source": [
    "df.loc[df.CommonName=='Tanzania_Coast_Dwarf_Galago']\n",
    "df=df.drop(347)"
   ]
  },
  {
   "cell_type": "code",
   "execution_count": null,
   "metadata": {},
   "outputs": [],
   "source": []
  },
  {
   "cell_type": "code",
   "execution_count": null,
   "metadata": {},
   "outputs": [],
   "source": []
  },
  {
   "cell_type": "code",
   "execution_count": null,
   "metadata": {},
   "outputs": [],
   "source": [
    "df.loc[df.CommonName=='Black_crowned_Dwarf_Marmoset']\n",
    "df=df.drop(280)\n",
    "\n"
   ]
  },
  {
   "cell_type": "code",
   "execution_count": null,
   "metadata": {},
   "outputs": [],
   "source": []
  },
  {
   "cell_type": "code",
   "execution_count": null,
   "metadata": {},
   "outputs": [],
   "source": [
    "df.dropna(subset = [\"CommonName\"], inplace=True)"
   ]
  },
  {
   "cell_type": "code",
   "execution_count": null,
   "metadata": {},
   "outputs": [],
   "source": [
    "df.fillna('Unspecified')"
   ]
  },
  {
   "cell_type": "code",
   "execution_count": null,
   "metadata": {},
   "outputs": [],
   "source": [
    "os.chdir('/Users/lucilleartigaud/Ironhack/Cours/806_Repo/Projects/PROJECT_WEEK_5/Cleaned DF')\n",
    "df.to_csv('DielActivity_cleaned.csv')\n"
   ]
  },
  {
   "cell_type": "code",
   "execution_count": null,
   "metadata": {},
   "outputs": [],
   "source": [
    "os.chdir('/Users/lucilleartigaud/Ironhack/Cours/806_Repo/Projects/PROJECT_WEEK_5/Cleaned DF')\n",
    "df1=pd.read_csv('joined_habitat_IUCN_weight_homerange_locomotion.csv', encoding='latin-1')\n",
    "\n",
    "df_joined = df.set_index('CommonName').join(df1.set_index('CommonName'))\n",
    "df_joined.to_csv('joined_habitat_IUCN_weight_homerange_locomotion_activity.csv')"
   ]
  },
  {
   "cell_type": "code",
   "execution_count": 2,
   "metadata": {},
   "outputs": [],
   "source": [
    "import os\n",
    "import pandas as pd\n",
    "import numpy as np"
   ]
  },
  {
   "cell_type": "code",
   "execution_count": 3,
   "metadata": {},
   "outputs": [
    {
     "ename": "ParserError",
     "evalue": "Error tokenizing data. C error: Expected 1 fields in line 273, saw 2\n",
     "output_type": "error",
     "traceback": [
      "\u001b[0;31m---------------------------------------------------------------------------\u001b[0m",
      "\u001b[0;31mParserError\u001b[0m                               Traceback (most recent call last)",
      "\u001b[0;32m<ipython-input-3-af2827e258e0>\u001b[0m in \u001b[0;36m<module>\u001b[0;34m\u001b[0m\n\u001b[1;32m      1\u001b[0m \u001b[0mos\u001b[0m\u001b[0;34m.\u001b[0m\u001b[0mchdir\u001b[0m\u001b[0;34m(\u001b[0m\u001b[0;34m'/Users/lucilleartigaud/Ironhack/Cours/806_Repo/Projects/PROJECT_WEEK_5'\u001b[0m\u001b[0;34m)\u001b[0m\u001b[0;34m\u001b[0m\u001b[0;34m\u001b[0m\u001b[0m\n\u001b[0;32m----> 2\u001b[0;31m \u001b[0mdf\u001b[0m\u001b[0;34m=\u001b[0m\u001b[0mpd\u001b[0m\u001b[0;34m.\u001b[0m\u001b[0mread_csv\u001b[0m\u001b[0;34m(\u001b[0m\u001b[0;34m'TrophicGuild.csv'\u001b[0m\u001b[0;34m,\u001b[0m \u001b[0mencoding\u001b[0m\u001b[0;34m=\u001b[0m\u001b[0;34m'latin-1'\u001b[0m\u001b[0;34m)\u001b[0m\u001b[0;34m\u001b[0m\u001b[0;34m\u001b[0m\u001b[0m\n\u001b[0m\u001b[1;32m      3\u001b[0m \u001b[0mdf\u001b[0m\u001b[0;34m\u001b[0m\u001b[0;34m\u001b[0m\u001b[0m\n",
      "\u001b[0;32m~/anaconda3/lib/python3.7/site-packages/pandas/io/parsers.py\u001b[0m in \u001b[0;36mparser_f\u001b[0;34m(filepath_or_buffer, sep, delimiter, header, names, index_col, usecols, squeeze, prefix, mangle_dupe_cols, dtype, engine, converters, true_values, false_values, skipinitialspace, skiprows, skipfooter, nrows, na_values, keep_default_na, na_filter, verbose, skip_blank_lines, parse_dates, infer_datetime_format, keep_date_col, date_parser, dayfirst, cache_dates, iterator, chunksize, compression, thousands, decimal, lineterminator, quotechar, quoting, doublequote, escapechar, comment, encoding, dialect, error_bad_lines, warn_bad_lines, delim_whitespace, low_memory, memory_map, float_precision)\u001b[0m\n\u001b[1;32m    674\u001b[0m         )\n\u001b[1;32m    675\u001b[0m \u001b[0;34m\u001b[0m\u001b[0m\n\u001b[0;32m--> 676\u001b[0;31m         \u001b[0;32mreturn\u001b[0m \u001b[0m_read\u001b[0m\u001b[0;34m(\u001b[0m\u001b[0mfilepath_or_buffer\u001b[0m\u001b[0;34m,\u001b[0m \u001b[0mkwds\u001b[0m\u001b[0;34m)\u001b[0m\u001b[0;34m\u001b[0m\u001b[0;34m\u001b[0m\u001b[0m\n\u001b[0m\u001b[1;32m    677\u001b[0m \u001b[0;34m\u001b[0m\u001b[0m\n\u001b[1;32m    678\u001b[0m     \u001b[0mparser_f\u001b[0m\u001b[0;34m.\u001b[0m\u001b[0m__name__\u001b[0m \u001b[0;34m=\u001b[0m \u001b[0mname\u001b[0m\u001b[0;34m\u001b[0m\u001b[0;34m\u001b[0m\u001b[0m\n",
      "\u001b[0;32m~/anaconda3/lib/python3.7/site-packages/pandas/io/parsers.py\u001b[0m in \u001b[0;36m_read\u001b[0;34m(filepath_or_buffer, kwds)\u001b[0m\n\u001b[1;32m    452\u001b[0m \u001b[0;34m\u001b[0m\u001b[0m\n\u001b[1;32m    453\u001b[0m     \u001b[0;32mtry\u001b[0m\u001b[0;34m:\u001b[0m\u001b[0;34m\u001b[0m\u001b[0;34m\u001b[0m\u001b[0m\n\u001b[0;32m--> 454\u001b[0;31m         \u001b[0mdata\u001b[0m \u001b[0;34m=\u001b[0m \u001b[0mparser\u001b[0m\u001b[0;34m.\u001b[0m\u001b[0mread\u001b[0m\u001b[0;34m(\u001b[0m\u001b[0mnrows\u001b[0m\u001b[0;34m)\u001b[0m\u001b[0;34m\u001b[0m\u001b[0;34m\u001b[0m\u001b[0m\n\u001b[0m\u001b[1;32m    455\u001b[0m     \u001b[0;32mfinally\u001b[0m\u001b[0;34m:\u001b[0m\u001b[0;34m\u001b[0m\u001b[0;34m\u001b[0m\u001b[0m\n\u001b[1;32m    456\u001b[0m         \u001b[0mparser\u001b[0m\u001b[0;34m.\u001b[0m\u001b[0mclose\u001b[0m\u001b[0;34m(\u001b[0m\u001b[0;34m)\u001b[0m\u001b[0;34m\u001b[0m\u001b[0;34m\u001b[0m\u001b[0m\n",
      "\u001b[0;32m~/anaconda3/lib/python3.7/site-packages/pandas/io/parsers.py\u001b[0m in \u001b[0;36mread\u001b[0;34m(self, nrows)\u001b[0m\n\u001b[1;32m   1131\u001b[0m     \u001b[0;32mdef\u001b[0m \u001b[0mread\u001b[0m\u001b[0;34m(\u001b[0m\u001b[0mself\u001b[0m\u001b[0;34m,\u001b[0m \u001b[0mnrows\u001b[0m\u001b[0;34m=\u001b[0m\u001b[0;32mNone\u001b[0m\u001b[0;34m)\u001b[0m\u001b[0;34m:\u001b[0m\u001b[0;34m\u001b[0m\u001b[0;34m\u001b[0m\u001b[0m\n\u001b[1;32m   1132\u001b[0m         \u001b[0mnrows\u001b[0m \u001b[0;34m=\u001b[0m \u001b[0m_validate_integer\u001b[0m\u001b[0;34m(\u001b[0m\u001b[0;34m\"nrows\"\u001b[0m\u001b[0;34m,\u001b[0m \u001b[0mnrows\u001b[0m\u001b[0;34m)\u001b[0m\u001b[0;34m\u001b[0m\u001b[0;34m\u001b[0m\u001b[0m\n\u001b[0;32m-> 1133\u001b[0;31m         \u001b[0mret\u001b[0m \u001b[0;34m=\u001b[0m \u001b[0mself\u001b[0m\u001b[0;34m.\u001b[0m\u001b[0m_engine\u001b[0m\u001b[0;34m.\u001b[0m\u001b[0mread\u001b[0m\u001b[0;34m(\u001b[0m\u001b[0mnrows\u001b[0m\u001b[0;34m)\u001b[0m\u001b[0;34m\u001b[0m\u001b[0;34m\u001b[0m\u001b[0m\n\u001b[0m\u001b[1;32m   1134\u001b[0m \u001b[0;34m\u001b[0m\u001b[0m\n\u001b[1;32m   1135\u001b[0m         \u001b[0;31m# May alter columns / col_dict\u001b[0m\u001b[0;34m\u001b[0m\u001b[0;34m\u001b[0m\u001b[0;34m\u001b[0m\u001b[0m\n",
      "\u001b[0;32m~/anaconda3/lib/python3.7/site-packages/pandas/io/parsers.py\u001b[0m in \u001b[0;36mread\u001b[0;34m(self, nrows)\u001b[0m\n\u001b[1;32m   2035\u001b[0m     \u001b[0;32mdef\u001b[0m \u001b[0mread\u001b[0m\u001b[0;34m(\u001b[0m\u001b[0mself\u001b[0m\u001b[0;34m,\u001b[0m \u001b[0mnrows\u001b[0m\u001b[0;34m=\u001b[0m\u001b[0;32mNone\u001b[0m\u001b[0;34m)\u001b[0m\u001b[0;34m:\u001b[0m\u001b[0;34m\u001b[0m\u001b[0;34m\u001b[0m\u001b[0m\n\u001b[1;32m   2036\u001b[0m         \u001b[0;32mtry\u001b[0m\u001b[0;34m:\u001b[0m\u001b[0;34m\u001b[0m\u001b[0;34m\u001b[0m\u001b[0m\n\u001b[0;32m-> 2037\u001b[0;31m             \u001b[0mdata\u001b[0m \u001b[0;34m=\u001b[0m \u001b[0mself\u001b[0m\u001b[0;34m.\u001b[0m\u001b[0m_reader\u001b[0m\u001b[0;34m.\u001b[0m\u001b[0mread\u001b[0m\u001b[0;34m(\u001b[0m\u001b[0mnrows\u001b[0m\u001b[0;34m)\u001b[0m\u001b[0;34m\u001b[0m\u001b[0;34m\u001b[0m\u001b[0m\n\u001b[0m\u001b[1;32m   2038\u001b[0m         \u001b[0;32mexcept\u001b[0m \u001b[0mStopIteration\u001b[0m\u001b[0;34m:\u001b[0m\u001b[0;34m\u001b[0m\u001b[0;34m\u001b[0m\u001b[0m\n\u001b[1;32m   2039\u001b[0m             \u001b[0;32mif\u001b[0m \u001b[0mself\u001b[0m\u001b[0;34m.\u001b[0m\u001b[0m_first_chunk\u001b[0m\u001b[0;34m:\u001b[0m\u001b[0;34m\u001b[0m\u001b[0;34m\u001b[0m\u001b[0m\n",
      "\u001b[0;32mpandas/_libs/parsers.pyx\u001b[0m in \u001b[0;36mpandas._libs.parsers.TextReader.read\u001b[0;34m()\u001b[0m\n",
      "\u001b[0;32mpandas/_libs/parsers.pyx\u001b[0m in \u001b[0;36mpandas._libs.parsers.TextReader._read_low_memory\u001b[0;34m()\u001b[0m\n",
      "\u001b[0;32mpandas/_libs/parsers.pyx\u001b[0m in \u001b[0;36mpandas._libs.parsers.TextReader._read_rows\u001b[0;34m()\u001b[0m\n",
      "\u001b[0;32mpandas/_libs/parsers.pyx\u001b[0m in \u001b[0;36mpandas._libs.parsers.TextReader._tokenize_rows\u001b[0;34m()\u001b[0m\n",
      "\u001b[0;32mpandas/_libs/parsers.pyx\u001b[0m in \u001b[0;36mpandas._libs.parsers.raise_parser_error\u001b[0;34m()\u001b[0m\n",
      "\u001b[0;31mParserError\u001b[0m: Error tokenizing data. C error: Expected 1 fields in line 273, saw 2\n"
     ]
    }
   ],
   "source": [
    "os.chdir('/Users/lucilleartigaud/Ironhack/Cours/806_Repo/Projects/PROJECT_WEEK_5')\n",
    "df=pd.read_csv('TrophicGuild.csv', encoding='latin-1')\n",
    "df"
   ]
  },
  {
   "cell_type": "code",
   "execution_count": null,
   "metadata": {},
   "outputs": [],
   "source": [
    "df.drop(['Family', 'Genus', 'Species', 'Species (ITIS)', 'Refs', 'Region','Data_type', 'Study_duration_months', 'N_groups', 'Mean_individuals', 'Comments', 'Unnamed: 22' ], axis=1, inplace=True)"
   ]
  },
  {
   "cell_type": "code",
   "execution_count": null,
   "metadata": {
    "scrolled": true
   },
   "outputs": [],
   "source": [
    "df.isna().sum()"
   ]
  },
  {
   "cell_type": "code",
   "execution_count": null,
   "metadata": {},
   "outputs": [],
   "source": [
    "df.dropna(subset = [\"CommonName\"], inplace=True)"
   ]
  },
  {
   "cell_type": "code",
   "execution_count": null,
   "metadata": {},
   "outputs": [],
   "source": [
    "df.CommonName.value_counts()"
   ]
  },
  {
   "cell_type": "code",
   "execution_count": null,
   "metadata": {},
   "outputs": [],
   "source": [
    "df.loc[df.CommonName=='Rhesus_Macaque']\n",
    "df=df.drop(282)"
   ]
  },
  {
   "cell_type": "code",
   "execution_count": null,
   "metadata": {},
   "outputs": [],
   "source": []
  },
  {
   "cell_type": "code",
   "execution_count": null,
   "metadata": {},
   "outputs": [],
   "source": [
    "df.TrophicGuild.unique()"
   ]
  },
  {
   "cell_type": "code",
   "execution_count": null,
   "metadata": {},
   "outputs": [],
   "source": [
    "df.loc[df.Country.isna()]"
   ]
  },
  {
   "cell_type": "code",
   "execution_count": null,
   "metadata": {},
   "outputs": [],
   "source": [
    "df.loc[df.CommonName==\"Sheth's_Dwarf_Lemur\"]"
   ]
  },
  {
   "cell_type": "code",
   "execution_count": null,
   "metadata": {},
   "outputs": [],
   "source": [
    "#df.drop(['Fruits', 'Flower', 'rophicGuild'], axis=1, inplace=True)"
   ]
  },
  {
   "cell_type": "code",
   "execution_count": 104,
   "metadata": {},
   "outputs": [],
   "source": [
    "os.chdir('/Users/lucilleartigaud/Ironhack/Cours/806_Repo/Projects/PROJECT_WEEK_5')"
   ]
  },
  {
   "cell_type": "code",
   "execution_count": 105,
   "metadata": {},
   "outputs": [],
   "source": [
    "df=pd.read_csv('TEST.csv',error_bad_lines=False, sep=';')"
   ]
  },
  {
   "cell_type": "code",
   "execution_count": 106,
   "metadata": {},
   "outputs": [
    {
     "data": {
      "text/html": [
       "<div>\n",
       "<style scoped>\n",
       "    .dataframe tbody tr th:only-of-type {\n",
       "        vertical-align: middle;\n",
       "    }\n",
       "\n",
       "    .dataframe tbody tr th {\n",
       "        vertical-align: top;\n",
       "    }\n",
       "\n",
       "    .dataframe thead th {\n",
       "        text-align: right;\n",
       "    }\n",
       "</style>\n",
       "<table border=\"1\" class=\"dataframe\">\n",
       "  <thead>\n",
       "    <tr style=\"text-align: right;\">\n",
       "      <th></th>\n",
       "      <th>Unnamed: 0</th>\n",
       "      <th>CommonName</th>\n",
       "      <th>TrophicGuild</th>\n",
       "      <th>Fruit</th>\n",
       "      <th>Leaves</th>\n",
       "      <th>Flowers</th>\n",
       "      <th>Seeds</th>\n",
       "      <th>Animal</th>\n",
       "      <th>Gums</th>\n",
       "      <th>Nectar</th>\n",
       "      <th>Other</th>\n",
       "      <th>Country</th>\n",
       "    </tr>\n",
       "  </thead>\n",
       "  <tbody>\n",
       "    <tr>\n",
       "      <th>515</th>\n",
       "      <td>566</td>\n",
       "      <td>Shortridge_s_Langur</td>\n",
       "      <td>Folivore</td>\n",
       "      <td>NI</td>\n",
       "      <td>NI</td>\n",
       "      <td>NI</td>\n",
       "      <td>NI</td>\n",
       "      <td>NI</td>\n",
       "      <td>NI</td>\n",
       "      <td>NI</td>\n",
       "      <td>NI</td>\n",
       "      <td>Birmania</td>\n",
       "    </tr>\n",
       "  </tbody>\n",
       "</table>\n",
       "</div>"
      ],
      "text/plain": [
       "     Unnamed: 0           CommonName TrophicGuild Fruit Leaves Flowers Seeds  \\\n",
       "515         566  Shortridge_s_Langur     Folivore    NI     NI      NI    NI   \n",
       "\n",
       "    Animal Gums Nectar Other   Country  \n",
       "515     NI   NI     NI    NI  Birmania  "
      ]
     },
     "execution_count": 106,
     "metadata": {},
     "output_type": "execute_result"
    }
   ],
   "source": [
    "df.loc[df.CommonName=='Shortridge_s_Langur']"
   ]
  },
  {
   "cell_type": "code",
   "execution_count": 171,
   "metadata": {},
   "outputs": [
    {
     "data": {
      "text/plain": [
       "array(['Congo', 'Madagascar', 'Cameroon', 'Brazil', 'Belize', 'Peru',\n",
       "       'Colombia', 'Ecuador', 'Paraguay', 'Bolivia', 'Surinam', 'Guinea',\n",
       "       'Borneo', 'Côte d\\x92Ivoire', 'Kenya', 'Togo', 'Benine',\n",
       "       'South Africa', 'Ethiopia', 'Senegal', 'Nigeria', 'Rwanda',\n",
       "       'Ghana', 'Sudan', 'Somalia', 'Burundi', 'Mozambique', 'Angola',\n",
       "       'India', 'China', 'Indonesia', 'Uganda', 'Sri Lanka', 'Thailand',\n",
       "       'Japan', 'Morocco', 'Gabon', 'Laos', 'Vietnam', 'Malaysia', 'Java',\n",
       "       'Philipines', 'Zimbabwe', 'Democratic Republic of Congo',\n",
       "       'South Africa & Lesotho', 'Sierra Leone', 'Niger', 'Tanzania',\n",
       "       'Sumatra', 'Panama', 'Guiana', 'Venezuela', 'Bangladesh',\n",
       "       'Birmania'], dtype=object)"
      ]
     },
     "execution_count": 171,
     "metadata": {},
     "output_type": "execute_result"
    }
   ],
   "source": [
    "df.Country.unique()"
   ]
  },
  {
   "cell_type": "code",
   "execution_count": 108,
   "metadata": {},
   "outputs": [],
   "source": [
    "df['Region']=df.Country"
   ]
  },
  {
   "cell_type": "code",
   "execution_count": 195,
   "metadata": {},
   "outputs": [],
   "source": [
    "df.loc[df['Region']=='China', 'Region']='East Asia'"
   ]
  },
  {
   "cell_type": "code",
   "execution_count": 173,
   "metadata": {},
   "outputs": [],
   "source": [
    "df.loc[df['Country']=='South Africa & Lesotho', 'Country']='Lesotho'"
   ]
  },
  {
   "cell_type": "code",
   "execution_count": 196,
   "metadata": {},
   "outputs": [
    {
     "data": {
      "text/plain": [
       "array(['West Africa', 'Madagascar', 'North West Africa', 'South America',\n",
       "       'Central America', 'South East Asia', 'East Africa',\n",
       "       'South Africa', 'Central Africa', 'East Asia', 'North Africa'],\n",
       "      dtype=object)"
      ]
     },
     "execution_count": 196,
     "metadata": {},
     "output_type": "execute_result"
    }
   ],
   "source": [
    "df.Region.unique()"
   ]
  },
  {
   "cell_type": "code",
   "execution_count": 228,
   "metadata": {},
   "outputs": [],
   "source": [
    "os.chdir('/Users/lucilleartigaud/Ironhack/Cours/806_Repo/Projects/PROJECT_WEEK_5/Cleaned DF')\n",
    "df.to_csv('trophicguild_firststep.csv')"
   ]
  },
  {
   "cell_type": "code",
   "execution_count": 244,
   "metadata": {},
   "outputs": [],
   "source": [
    "df=pd.read_csv('trophicguild_firststep.csv')"
   ]
  },
  {
   "cell_type": "code",
   "execution_count": 245,
   "metadata": {},
   "outputs": [
    {
     "data": {
      "text/html": [
       "<div>\n",
       "<style scoped>\n",
       "    .dataframe tbody tr th:only-of-type {\n",
       "        vertical-align: middle;\n",
       "    }\n",
       "\n",
       "    .dataframe tbody tr th {\n",
       "        vertical-align: top;\n",
       "    }\n",
       "\n",
       "    .dataframe thead th {\n",
       "        text-align: right;\n",
       "    }\n",
       "</style>\n",
       "<table border=\"1\" class=\"dataframe\">\n",
       "  <thead>\n",
       "    <tr style=\"text-align: right;\">\n",
       "      <th></th>\n",
       "      <th>Unnamed: 0</th>\n",
       "      <th>Unnamed: 0.1</th>\n",
       "      <th>CommonName</th>\n",
       "      <th>TrophicGuild</th>\n",
       "      <th>Fruit</th>\n",
       "      <th>Leaves</th>\n",
       "      <th>Flowers</th>\n",
       "      <th>Seeds</th>\n",
       "      <th>Animal</th>\n",
       "      <th>Gums</th>\n",
       "      <th>Nectar</th>\n",
       "      <th>Other</th>\n",
       "      <th>Country</th>\n",
       "      <th>Region</th>\n",
       "    </tr>\n",
       "  </thead>\n",
       "  <tbody>\n",
       "    <tr>\n",
       "      <th>0</th>\n",
       "      <td>0</td>\n",
       "      <td>0</td>\n",
       "      <td>Allen_s_Swamp_Monkey</td>\n",
       "      <td>Frugivore</td>\n",
       "      <td>81</td>\n",
       "      <td>0</td>\n",
       "      <td>NI</td>\n",
       "      <td>NI</td>\n",
       "      <td>17</td>\n",
       "      <td>NI</td>\n",
       "      <td>NI</td>\n",
       "      <td>NI</td>\n",
       "      <td>Congo</td>\n",
       "      <td>West Africa</td>\n",
       "    </tr>\n",
       "    <tr>\n",
       "      <th>1</th>\n",
       "      <td>1</td>\n",
       "      <td>1</td>\n",
       "      <td>Hairy_eared_Dwarf_Lemur</td>\n",
       "      <td>Omnivore</td>\n",
       "      <td>0</td>\n",
       "      <td>0</td>\n",
       "      <td>NI</td>\n",
       "      <td>NI</td>\n",
       "      <td>50-75</td>\n",
       "      <td>NI</td>\n",
       "      <td>NI</td>\n",
       "      <td>NI</td>\n",
       "      <td>Madagascar</td>\n",
       "      <td>Madagascar</td>\n",
       "    </tr>\n",
       "    <tr>\n",
       "      <th>2</th>\n",
       "      <td>2</td>\n",
       "      <td>2</td>\n",
       "      <td>L_Hoest_s_Monkey</td>\n",
       "      <td>Omnivore</td>\n",
       "      <td>31.43</td>\n",
       "      <td>34.71</td>\n",
       "      <td>NI</td>\n",
       "      <td>3.18</td>\n",
       "      <td>10.34</td>\n",
       "      <td>NI</td>\n",
       "      <td>NI</td>\n",
       "      <td>NI</td>\n",
       "      <td>Congo</td>\n",
       "      <td>West Africa</td>\n",
       "    </tr>\n",
       "    <tr>\n",
       "      <th>3</th>\n",
       "      <td>3</td>\n",
       "      <td>3</td>\n",
       "      <td>Preuss_s_Monkey</td>\n",
       "      <td>Omnivore</td>\n",
       "      <td>52</td>\n",
       "      <td>0</td>\n",
       "      <td>NI</td>\n",
       "      <td>NI</td>\n",
       "      <td>NI</td>\n",
       "      <td>NI</td>\n",
       "      <td>NI</td>\n",
       "      <td>NI</td>\n",
       "      <td>Cameroon</td>\n",
       "      <td>North West Africa</td>\n",
       "    </tr>\n",
       "    <tr>\n",
       "      <th>4</th>\n",
       "      <td>4</td>\n",
       "      <td>4</td>\n",
       "      <td>Sun_tailed_Monkey</td>\n",
       "      <td>Omnivore</td>\n",
       "      <td>26</td>\n",
       "      <td>0</td>\n",
       "      <td>NI</td>\n",
       "      <td>NI</td>\n",
       "      <td>27.5</td>\n",
       "      <td>NI</td>\n",
       "      <td>NI</td>\n",
       "      <td>NI</td>\n",
       "      <td>Congo</td>\n",
       "      <td>West Africa</td>\n",
       "    </tr>\n",
       "    <tr>\n",
       "      <th>...</th>\n",
       "      <td>...</td>\n",
       "      <td>...</td>\n",
       "      <td>...</td>\n",
       "      <td>...</td>\n",
       "      <td>...</td>\n",
       "      <td>...</td>\n",
       "      <td>...</td>\n",
       "      <td>...</td>\n",
       "      <td>...</td>\n",
       "      <td>...</td>\n",
       "      <td>...</td>\n",
       "      <td>...</td>\n",
       "      <td>...</td>\n",
       "      <td>...</td>\n",
       "    </tr>\n",
       "    <tr>\n",
       "      <th>513</th>\n",
       "      <td>513</td>\n",
       "      <td>564</td>\n",
       "      <td>Cat_Ba_Langur</td>\n",
       "      <td>Folivore</td>\n",
       "      <td>0</td>\n",
       "      <td>0</td>\n",
       "      <td>NI</td>\n",
       "      <td>NI</td>\n",
       "      <td>NI</td>\n",
       "      <td>NI</td>\n",
       "      <td>NI</td>\n",
       "      <td>NI</td>\n",
       "      <td>Vietnam</td>\n",
       "      <td>South East Asia</td>\n",
       "    </tr>\n",
       "    <tr>\n",
       "      <th>514</th>\n",
       "      <td>514</td>\n",
       "      <td>565</td>\n",
       "      <td>Selangor_Silvery_Langur</td>\n",
       "      <td>Folivore</td>\n",
       "      <td>0</td>\n",
       "      <td>0</td>\n",
       "      <td>NI</td>\n",
       "      <td>NI</td>\n",
       "      <td>NI</td>\n",
       "      <td>NI</td>\n",
       "      <td>NI</td>\n",
       "      <td>NI</td>\n",
       "      <td>Malaysia</td>\n",
       "      <td>South East Asia</td>\n",
       "    </tr>\n",
       "    <tr>\n",
       "      <th>515</th>\n",
       "      <td>515</td>\n",
       "      <td>566</td>\n",
       "      <td>Shortridge_s_Langur</td>\n",
       "      <td>Folivore</td>\n",
       "      <td>0</td>\n",
       "      <td>0</td>\n",
       "      <td>NI</td>\n",
       "      <td>NI</td>\n",
       "      <td>NI</td>\n",
       "      <td>NI</td>\n",
       "      <td>NI</td>\n",
       "      <td>NI</td>\n",
       "      <td>Birmania</td>\n",
       "      <td>South East Asia</td>\n",
       "    </tr>\n",
       "    <tr>\n",
       "      <th>516</th>\n",
       "      <td>516</td>\n",
       "      <td>567</td>\n",
       "      <td>Red_Ruffed_Lemur</td>\n",
       "      <td>Frugivore</td>\n",
       "      <td>80</td>\n",
       "      <td>10</td>\n",
       "      <td>10</td>\n",
       "      <td>NI</td>\n",
       "      <td>NI</td>\n",
       "      <td>NI</td>\n",
       "      <td>NI</td>\n",
       "      <td>NI</td>\n",
       "      <td>Madagascar</td>\n",
       "      <td>Madagascar</td>\n",
       "    </tr>\n",
       "    <tr>\n",
       "      <th>517</th>\n",
       "      <td>517</td>\n",
       "      <td>568</td>\n",
       "      <td>Black_and_white_Ruffed_Lemur</td>\n",
       "      <td>Frugivore</td>\n",
       "      <td>0</td>\n",
       "      <td>0</td>\n",
       "      <td>NI</td>\n",
       "      <td>NI</td>\n",
       "      <td>NI</td>\n",
       "      <td>NI</td>\n",
       "      <td>NI</td>\n",
       "      <td>NI</td>\n",
       "      <td>Madagascar</td>\n",
       "      <td>Madagascar</td>\n",
       "    </tr>\n",
       "  </tbody>\n",
       "</table>\n",
       "<p>518 rows × 14 columns</p>\n",
       "</div>"
      ],
      "text/plain": [
       "     Unnamed: 0  Unnamed: 0.1                    CommonName TrophicGuild  \\\n",
       "0             0             0          Allen_s_Swamp_Monkey    Frugivore   \n",
       "1             1             1       Hairy_eared_Dwarf_Lemur     Omnivore   \n",
       "2             2             2              L_Hoest_s_Monkey     Omnivore   \n",
       "3             3             3               Preuss_s_Monkey     Omnivore   \n",
       "4             4             4             Sun_tailed_Monkey     Omnivore   \n",
       "..          ...           ...                           ...          ...   \n",
       "513         513           564                 Cat_Ba_Langur     Folivore   \n",
       "514         514           565       Selangor_Silvery_Langur     Folivore   \n",
       "515         515           566           Shortridge_s_Langur     Folivore   \n",
       "516         516           567              Red_Ruffed_Lemur    Frugivore   \n",
       "517         517           568  Black_and_white_Ruffed_Lemur    Frugivore   \n",
       "\n",
       "     Fruit Leaves Flowers Seeds Animal Gums Nectar Other     Country  \\\n",
       "0       81      0      NI    NI     17   NI     NI    NI       Congo   \n",
       "1        0      0      NI    NI  50-75   NI     NI    NI  Madagascar   \n",
       "2    31.43  34.71      NI  3.18  10.34   NI     NI    NI       Congo   \n",
       "3       52      0      NI    NI     NI   NI     NI    NI    Cameroon   \n",
       "4       26      0      NI    NI   27.5   NI     NI    NI       Congo   \n",
       "..     ...    ...     ...   ...    ...  ...    ...   ...         ...   \n",
       "513      0      0      NI    NI     NI   NI     NI    NI     Vietnam   \n",
       "514      0      0      NI    NI     NI   NI     NI    NI    Malaysia   \n",
       "515      0      0      NI    NI     NI   NI     NI    NI    Birmania   \n",
       "516     80     10      10    NI     NI   NI     NI    NI  Madagascar   \n",
       "517      0      0      NI    NI     NI   NI     NI    NI  Madagascar   \n",
       "\n",
       "                Region  \n",
       "0          West Africa  \n",
       "1           Madagascar  \n",
       "2          West Africa  \n",
       "3    North West Africa  \n",
       "4          West Africa  \n",
       "..                 ...  \n",
       "513    South East Asia  \n",
       "514    South East Asia  \n",
       "515    South East Asia  \n",
       "516         Madagascar  \n",
       "517         Madagascar  \n",
       "\n",
       "[518 rows x 14 columns]"
      ]
     },
     "execution_count": 245,
     "metadata": {},
     "output_type": "execute_result"
    }
   ],
   "source": [
    "df"
   ]
  },
  {
   "cell_type": "code",
   "execution_count": null,
   "metadata": {},
   "outputs": [],
   "source": []
  },
  {
   "cell_type": "code",
   "execution_count": 263,
   "metadata": {},
   "outputs": [],
   "source": [
    "df.loc[df.Flowers!=0, 'Flowers']=1"
   ]
  },
  {
   "cell_type": "code",
   "execution_count": 276,
   "metadata": {},
   "outputs": [],
   "source": [
    "df.loc[df.TrophicGuild=='Folivore-frugivore', 'TrophicGuild']='Foli-frugivore'"
   ]
  },
  {
   "cell_type": "code",
   "execution_count": 273,
   "metadata": {},
   "outputs": [],
   "source": [
    "os.chdir('/Users/lucilleartigaud/Ironhack/Cours/806_Repo/Projects/PROJECT_WEEK_5/Cleaned DF')\n",
    "df.to_csv('trophicguild_firststep.csv')"
   ]
  },
  {
   "cell_type": "code",
   "execution_count": 278,
   "metadata": {},
   "outputs": [],
   "source": [
    "df['Insects']=df['Other']"
   ]
  },
  {
   "cell_type": "code",
   "execution_count": 281,
   "metadata": {},
   "outputs": [],
   "source": [
    "df.loc[df.TrophicGuild=='Insectivore', 'Insects']=1"
   ]
  },
  {
   "cell_type": "code",
   "execution_count": 282,
   "metadata": {},
   "outputs": [
    {
     "data": {
      "text/html": [
       "<div>\n",
       "<style scoped>\n",
       "    .dataframe tbody tr th:only-of-type {\n",
       "        vertical-align: middle;\n",
       "    }\n",
       "\n",
       "    .dataframe tbody tr th {\n",
       "        vertical-align: top;\n",
       "    }\n",
       "\n",
       "    .dataframe thead th {\n",
       "        text-align: right;\n",
       "    }\n",
       "</style>\n",
       "<table border=\"1\" class=\"dataframe\">\n",
       "  <thead>\n",
       "    <tr style=\"text-align: right;\">\n",
       "      <th></th>\n",
       "      <th>Unnamed: 0</th>\n",
       "      <th>Unnamed: 0.1</th>\n",
       "      <th>CommonName</th>\n",
       "      <th>TrophicGuild</th>\n",
       "      <th>Fruit</th>\n",
       "      <th>Leaves</th>\n",
       "      <th>Flowers</th>\n",
       "      <th>Seeds</th>\n",
       "      <th>Animal</th>\n",
       "      <th>Gums</th>\n",
       "      <th>Nectar</th>\n",
       "      <th>Other</th>\n",
       "      <th>Country</th>\n",
       "      <th>Region</th>\n",
       "      <th>Insects</th>\n",
       "    </tr>\n",
       "  </thead>\n",
       "  <tbody>\n",
       "    <tr>\n",
       "      <th>28</th>\n",
       "      <td>28</td>\n",
       "      <td>28</td>\n",
       "      <td>Golden_Angwantibo</td>\n",
       "      <td>Insectivore</td>\n",
       "      <td>1</td>\n",
       "      <td>1</td>\n",
       "      <td>0</td>\n",
       "      <td>0</td>\n",
       "      <td>1</td>\n",
       "      <td>0</td>\n",
       "      <td>0</td>\n",
       "      <td>0</td>\n",
       "      <td>Congo</td>\n",
       "      <td>West Africa</td>\n",
       "      <td>1</td>\n",
       "    </tr>\n",
       "    <tr>\n",
       "      <th>29</th>\n",
       "      <td>29</td>\n",
       "      <td>29</td>\n",
       "      <td>Calabar_Angwantibo</td>\n",
       "      <td>Insectivore</td>\n",
       "      <td>1</td>\n",
       "      <td>1</td>\n",
       "      <td>0</td>\n",
       "      <td>0</td>\n",
       "      <td>0</td>\n",
       "      <td>0</td>\n",
       "      <td>0</td>\n",
       "      <td>0</td>\n",
       "      <td>Congo</td>\n",
       "      <td>West Africa</td>\n",
       "      <td>1</td>\n",
       "    </tr>\n",
       "    <tr>\n",
       "      <th>66</th>\n",
       "      <td>66</td>\n",
       "      <td>69</td>\n",
       "      <td>Philippine_Tarsier</td>\n",
       "      <td>Insectivore</td>\n",
       "      <td>1</td>\n",
       "      <td>1</td>\n",
       "      <td>0</td>\n",
       "      <td>0</td>\n",
       "      <td>0</td>\n",
       "      <td>0</td>\n",
       "      <td>0</td>\n",
       "      <td>0</td>\n",
       "      <td>Brazil</td>\n",
       "      <td>South America</td>\n",
       "      <td>1</td>\n",
       "    </tr>\n",
       "    <tr>\n",
       "      <th>81</th>\n",
       "      <td>81</td>\n",
       "      <td>87</td>\n",
       "      <td>Varied_White_fronted_Capuchin</td>\n",
       "      <td>Insectivore</td>\n",
       "      <td>1</td>\n",
       "      <td>1</td>\n",
       "      <td>1</td>\n",
       "      <td>1</td>\n",
       "      <td>1</td>\n",
       "      <td>1</td>\n",
       "      <td>1</td>\n",
       "      <td>1</td>\n",
       "      <td>Guinea</td>\n",
       "      <td>North West Africa</td>\n",
       "      <td>1</td>\n",
       "    </tr>\n",
       "    <tr>\n",
       "      <th>83</th>\n",
       "      <td>83</td>\n",
       "      <td>89</td>\n",
       "      <td>Western_Tarsier</td>\n",
       "      <td>Insectivore</td>\n",
       "      <td>1</td>\n",
       "      <td>1</td>\n",
       "      <td>0</td>\n",
       "      <td>0</td>\n",
       "      <td>0</td>\n",
       "      <td>0</td>\n",
       "      <td>0</td>\n",
       "      <td>0</td>\n",
       "      <td>Borneo</td>\n",
       "      <td>South East Asia</td>\n",
       "      <td>1</td>\n",
       "    </tr>\n",
       "    <tr>\n",
       "      <th>145</th>\n",
       "      <td>145</td>\n",
       "      <td>154</td>\n",
       "      <td>Aye_aye</td>\n",
       "      <td>Insectivore</td>\n",
       "      <td>1</td>\n",
       "      <td>1</td>\n",
       "      <td>0</td>\n",
       "      <td>1</td>\n",
       "      <td>1</td>\n",
       "      <td>1</td>\n",
       "      <td>1</td>\n",
       "      <td>0</td>\n",
       "      <td>Madagascar</td>\n",
       "      <td>Madagascar</td>\n",
       "      <td>1</td>\n",
       "    </tr>\n",
       "    <tr>\n",
       "      <th>246</th>\n",
       "      <td>246</td>\n",
       "      <td>270</td>\n",
       "      <td>Gray_Slender_Loris</td>\n",
       "      <td>Insectivore</td>\n",
       "      <td>1</td>\n",
       "      <td>1</td>\n",
       "      <td>0</td>\n",
       "      <td>0</td>\n",
       "      <td>1</td>\n",
       "      <td>1</td>\n",
       "      <td>0</td>\n",
       "      <td>0</td>\n",
       "      <td>India</td>\n",
       "      <td>South East Asia</td>\n",
       "      <td>1</td>\n",
       "    </tr>\n",
       "    <tr>\n",
       "      <th>247</th>\n",
       "      <td>247</td>\n",
       "      <td>271</td>\n",
       "      <td>Red_Slender_Loris</td>\n",
       "      <td>Insectivore</td>\n",
       "      <td>1</td>\n",
       "      <td>1</td>\n",
       "      <td>0</td>\n",
       "      <td>0</td>\n",
       "      <td>0</td>\n",
       "      <td>0</td>\n",
       "      <td>0</td>\n",
       "      <td>0</td>\n",
       "      <td>Sri Lanka</td>\n",
       "      <td>South East Asia</td>\n",
       "      <td>1</td>\n",
       "    </tr>\n",
       "    <tr>\n",
       "      <th>471</th>\n",
       "      <td>471</td>\n",
       "      <td>519</td>\n",
       "      <td>Cross_River_Squirrel_Galago</td>\n",
       "      <td>Insectivore</td>\n",
       "      <td>1</td>\n",
       "      <td>1</td>\n",
       "      <td>0</td>\n",
       "      <td>0</td>\n",
       "      <td>0</td>\n",
       "      <td>0</td>\n",
       "      <td>0</td>\n",
       "      <td>0</td>\n",
       "      <td>Cameroon</td>\n",
       "      <td>North West Africa</td>\n",
       "      <td>1</td>\n",
       "    </tr>\n",
       "    <tr>\n",
       "      <th>484</th>\n",
       "      <td>484</td>\n",
       "      <td>533</td>\n",
       "      <td>Dian_s_Tarsier</td>\n",
       "      <td>Insectivore</td>\n",
       "      <td>1</td>\n",
       "      <td>1</td>\n",
       "      <td>0</td>\n",
       "      <td>0</td>\n",
       "      <td>0</td>\n",
       "      <td>0</td>\n",
       "      <td>0</td>\n",
       "      <td>0</td>\n",
       "      <td>Indonesia</td>\n",
       "      <td>South East Asia</td>\n",
       "      <td>1</td>\n",
       "    </tr>\n",
       "    <tr>\n",
       "      <th>486</th>\n",
       "      <td>486</td>\n",
       "      <td>535</td>\n",
       "      <td>Lariang_Tarsier</td>\n",
       "      <td>Insectivore</td>\n",
       "      <td>1</td>\n",
       "      <td>1</td>\n",
       "      <td>0</td>\n",
       "      <td>0</td>\n",
       "      <td>0</td>\n",
       "      <td>0</td>\n",
       "      <td>0</td>\n",
       "      <td>0</td>\n",
       "      <td>Indonesia</td>\n",
       "      <td>South East Asia</td>\n",
       "      <td>1</td>\n",
       "    </tr>\n",
       "    <tr>\n",
       "      <th>487</th>\n",
       "      <td>487</td>\n",
       "      <td>536</td>\n",
       "      <td>Peleng_Tarsier</td>\n",
       "      <td>Insectivore</td>\n",
       "      <td>1</td>\n",
       "      <td>1</td>\n",
       "      <td>0</td>\n",
       "      <td>0</td>\n",
       "      <td>0</td>\n",
       "      <td>0</td>\n",
       "      <td>0</td>\n",
       "      <td>0</td>\n",
       "      <td>Indonesia</td>\n",
       "      <td>South East Asia</td>\n",
       "      <td>1</td>\n",
       "    </tr>\n",
       "    <tr>\n",
       "      <th>488</th>\n",
       "      <td>488</td>\n",
       "      <td>537</td>\n",
       "      <td>Sulawesi_Mountain_Tarsier</td>\n",
       "      <td>Insectivore</td>\n",
       "      <td>1</td>\n",
       "      <td>1</td>\n",
       "      <td>0</td>\n",
       "      <td>0</td>\n",
       "      <td>0</td>\n",
       "      <td>0</td>\n",
       "      <td>0</td>\n",
       "      <td>0</td>\n",
       "      <td>Indonesia</td>\n",
       "      <td>South East Asia</td>\n",
       "      <td>1</td>\n",
       "    </tr>\n",
       "    <tr>\n",
       "      <th>489</th>\n",
       "      <td>489</td>\n",
       "      <td>538</td>\n",
       "      <td>Great_Sangihe_Tarsier</td>\n",
       "      <td>Insectivore</td>\n",
       "      <td>1</td>\n",
       "      <td>1</td>\n",
       "      <td>0</td>\n",
       "      <td>0</td>\n",
       "      <td>0</td>\n",
       "      <td>0</td>\n",
       "      <td>0</td>\n",
       "      <td>0</td>\n",
       "      <td>Indonesia</td>\n",
       "      <td>South East Asia</td>\n",
       "      <td>1</td>\n",
       "    </tr>\n",
       "    <tr>\n",
       "      <th>492</th>\n",
       "      <td>492</td>\n",
       "      <td>541</td>\n",
       "      <td>Selayar_Tarsier</td>\n",
       "      <td>Insectivore</td>\n",
       "      <td>1</td>\n",
       "      <td>1</td>\n",
       "      <td>0</td>\n",
       "      <td>0</td>\n",
       "      <td>1</td>\n",
       "      <td>0</td>\n",
       "      <td>0</td>\n",
       "      <td>0</td>\n",
       "      <td>Indonesia</td>\n",
       "      <td>South East Asia</td>\n",
       "      <td>1</td>\n",
       "    </tr>\n",
       "    <tr>\n",
       "      <th>493</th>\n",
       "      <td>493</td>\n",
       "      <td>542</td>\n",
       "      <td>Siau_Island_Tarsier</td>\n",
       "      <td>Insectivore</td>\n",
       "      <td>1</td>\n",
       "      <td>1</td>\n",
       "      <td>0</td>\n",
       "      <td>0</td>\n",
       "      <td>0</td>\n",
       "      <td>0</td>\n",
       "      <td>0</td>\n",
       "      <td>0</td>\n",
       "      <td>Indonesia</td>\n",
       "      <td>South East Asia</td>\n",
       "      <td>1</td>\n",
       "    </tr>\n",
       "    <tr>\n",
       "      <th>494</th>\n",
       "      <td>494</td>\n",
       "      <td>543</td>\n",
       "      <td>Wallace_s_Tarsier</td>\n",
       "      <td>Insectivore</td>\n",
       "      <td>1</td>\n",
       "      <td>1</td>\n",
       "      <td>0</td>\n",
       "      <td>0</td>\n",
       "      <td>0</td>\n",
       "      <td>0</td>\n",
       "      <td>0</td>\n",
       "      <td>0</td>\n",
       "      <td>Indonesia</td>\n",
       "      <td>South East Asia</td>\n",
       "      <td>1</td>\n",
       "    </tr>\n",
       "  </tbody>\n",
       "</table>\n",
       "</div>"
      ],
      "text/plain": [
       "     Unnamed: 0  Unnamed: 0.1                     CommonName TrophicGuild  \\\n",
       "28           28            28              Golden_Angwantibo  Insectivore   \n",
       "29           29            29             Calabar_Angwantibo  Insectivore   \n",
       "66           66            69             Philippine_Tarsier  Insectivore   \n",
       "81           81            87  Varied_White_fronted_Capuchin  Insectivore   \n",
       "83           83            89                Western_Tarsier  Insectivore   \n",
       "145         145           154                        Aye_aye  Insectivore   \n",
       "246         246           270             Gray_Slender_Loris  Insectivore   \n",
       "247         247           271              Red_Slender_Loris  Insectivore   \n",
       "471         471           519    Cross_River_Squirrel_Galago  Insectivore   \n",
       "484         484           533                 Dian_s_Tarsier  Insectivore   \n",
       "486         486           535                Lariang_Tarsier  Insectivore   \n",
       "487         487           536                 Peleng_Tarsier  Insectivore   \n",
       "488         488           537      Sulawesi_Mountain_Tarsier  Insectivore   \n",
       "489         489           538          Great_Sangihe_Tarsier  Insectivore   \n",
       "492         492           541                Selayar_Tarsier  Insectivore   \n",
       "493         493           542            Siau_Island_Tarsier  Insectivore   \n",
       "494         494           543              Wallace_s_Tarsier  Insectivore   \n",
       "\n",
       "    Fruit Leaves Flowers Seeds Animal Gums Nectar Other     Country  \\\n",
       "28      1      1       0     0      1    0      0     0       Congo   \n",
       "29      1      1       0     0      0    0      0     0       Congo   \n",
       "66      1      1       0     0      0    0      0     0      Brazil   \n",
       "81      1      1       1     1      1    1      1     1      Guinea   \n",
       "83      1      1       0     0      0    0      0     0      Borneo   \n",
       "145     1      1       0     1      1    1      1     0  Madagascar   \n",
       "246     1      1       0     0      1    1      0     0       India   \n",
       "247     1      1       0     0      0    0      0     0   Sri Lanka   \n",
       "471     1      1       0     0      0    0      0     0    Cameroon   \n",
       "484     1      1       0     0      0    0      0     0   Indonesia   \n",
       "486     1      1       0     0      0    0      0     0   Indonesia   \n",
       "487     1      1       0     0      0    0      0     0   Indonesia   \n",
       "488     1      1       0     0      0    0      0     0   Indonesia   \n",
       "489     1      1       0     0      0    0      0     0   Indonesia   \n",
       "492     1      1       0     0      1    0      0     0   Indonesia   \n",
       "493     1      1       0     0      0    0      0     0   Indonesia   \n",
       "494     1      1       0     0      0    0      0     0   Indonesia   \n",
       "\n",
       "                Region Insects  \n",
       "28         West Africa       1  \n",
       "29         West Africa       1  \n",
       "66       South America       1  \n",
       "81   North West Africa       1  \n",
       "83     South East Asia       1  \n",
       "145         Madagascar       1  \n",
       "246    South East Asia       1  \n",
       "247    South East Asia       1  \n",
       "471  North West Africa       1  \n",
       "484    South East Asia       1  \n",
       "486    South East Asia       1  \n",
       "487    South East Asia       1  \n",
       "488    South East Asia       1  \n",
       "489    South East Asia       1  \n",
       "492    South East Asia       1  \n",
       "493    South East Asia       1  \n",
       "494    South East Asia       1  "
      ]
     },
     "execution_count": 282,
     "metadata": {},
     "output_type": "execute_result"
    }
   ],
   "source": [
    "df.loc[df.TrophicGuild=='Insectivore']"
   ]
  },
  {
   "cell_type": "code",
   "execution_count": 283,
   "metadata": {},
   "outputs": [],
   "source": [
    "df.to_csv('trophicguild_firststep.csv')"
   ]
  },
  {
   "cell_type": "code",
   "execution_count": 284,
   "metadata": {},
   "outputs": [
    {
     "data": {
      "text/html": [
       "<div>\n",
       "<style scoped>\n",
       "    .dataframe tbody tr th:only-of-type {\n",
       "        vertical-align: middle;\n",
       "    }\n",
       "\n",
       "    .dataframe tbody tr th {\n",
       "        vertical-align: top;\n",
       "    }\n",
       "\n",
       "    .dataframe thead th {\n",
       "        text-align: right;\n",
       "    }\n",
       "</style>\n",
       "<table border=\"1\" class=\"dataframe\">\n",
       "  <thead>\n",
       "    <tr style=\"text-align: right;\">\n",
       "      <th></th>\n",
       "      <th>CommonName</th>\n",
       "      <th>Country</th>\n",
       "      <th>Region</th>\n",
       "      <th>TrophicGuild</th>\n",
       "      <th>Fruit</th>\n",
       "      <th>Leaves</th>\n",
       "      <th>Flowers</th>\n",
       "      <th>Seeds</th>\n",
       "      <th>Gums</th>\n",
       "      <th>Nectar</th>\n",
       "      <th>Animal</th>\n",
       "      <th>Insects</th>\n",
       "      <th>Other</th>\n",
       "    </tr>\n",
       "  </thead>\n",
       "  <tbody>\n",
       "    <tr>\n",
       "      <th>0</th>\n",
       "      <td>Allen_s_Swamp_Monkey</td>\n",
       "      <td>Congo</td>\n",
       "      <td>West Africa</td>\n",
       "      <td>Frugivore</td>\n",
       "      <td>1</td>\n",
       "      <td>1</td>\n",
       "      <td>0</td>\n",
       "      <td>0</td>\n",
       "      <td>0</td>\n",
       "      <td>0</td>\n",
       "      <td>1</td>\n",
       "      <td>0</td>\n",
       "      <td>0</td>\n",
       "    </tr>\n",
       "    <tr>\n",
       "      <th>1</th>\n",
       "      <td>Hairy_eared_Dwarf_Lemur</td>\n",
       "      <td>Madagascar</td>\n",
       "      <td>Madagascar</td>\n",
       "      <td>Omnivore</td>\n",
       "      <td>1</td>\n",
       "      <td>1</td>\n",
       "      <td>0</td>\n",
       "      <td>0</td>\n",
       "      <td>0</td>\n",
       "      <td>0</td>\n",
       "      <td>1</td>\n",
       "      <td>0</td>\n",
       "      <td>0</td>\n",
       "    </tr>\n",
       "    <tr>\n",
       "      <th>2</th>\n",
       "      <td>L_Hoest_s_Monkey</td>\n",
       "      <td>Congo</td>\n",
       "      <td>West Africa</td>\n",
       "      <td>Omnivore</td>\n",
       "      <td>1</td>\n",
       "      <td>1</td>\n",
       "      <td>0</td>\n",
       "      <td>1</td>\n",
       "      <td>0</td>\n",
       "      <td>0</td>\n",
       "      <td>1</td>\n",
       "      <td>0</td>\n",
       "      <td>0</td>\n",
       "    </tr>\n",
       "    <tr>\n",
       "      <th>3</th>\n",
       "      <td>Preuss_s_Monkey</td>\n",
       "      <td>Cameroon</td>\n",
       "      <td>North West Africa</td>\n",
       "      <td>Omnivore</td>\n",
       "      <td>1</td>\n",
       "      <td>1</td>\n",
       "      <td>0</td>\n",
       "      <td>0</td>\n",
       "      <td>0</td>\n",
       "      <td>0</td>\n",
       "      <td>0</td>\n",
       "      <td>0</td>\n",
       "      <td>0</td>\n",
       "    </tr>\n",
       "    <tr>\n",
       "      <th>4</th>\n",
       "      <td>Sun_tailed_Monkey</td>\n",
       "      <td>Congo</td>\n",
       "      <td>West Africa</td>\n",
       "      <td>Omnivore</td>\n",
       "      <td>1</td>\n",
       "      <td>1</td>\n",
       "      <td>0</td>\n",
       "      <td>0</td>\n",
       "      <td>0</td>\n",
       "      <td>0</td>\n",
       "      <td>1</td>\n",
       "      <td>0</td>\n",
       "      <td>0</td>\n",
       "    </tr>\n",
       "    <tr>\n",
       "      <th>...</th>\n",
       "      <td>...</td>\n",
       "      <td>...</td>\n",
       "      <td>...</td>\n",
       "      <td>...</td>\n",
       "      <td>...</td>\n",
       "      <td>...</td>\n",
       "      <td>...</td>\n",
       "      <td>...</td>\n",
       "      <td>...</td>\n",
       "      <td>...</td>\n",
       "      <td>...</td>\n",
       "      <td>...</td>\n",
       "      <td>...</td>\n",
       "    </tr>\n",
       "    <tr>\n",
       "      <th>513</th>\n",
       "      <td>Cat_Ba_Langur</td>\n",
       "      <td>Vietnam</td>\n",
       "      <td>South East Asia</td>\n",
       "      <td>Folivore</td>\n",
       "      <td>1</td>\n",
       "      <td>1</td>\n",
       "      <td>0</td>\n",
       "      <td>0</td>\n",
       "      <td>0</td>\n",
       "      <td>0</td>\n",
       "      <td>0</td>\n",
       "      <td>0</td>\n",
       "      <td>0</td>\n",
       "    </tr>\n",
       "    <tr>\n",
       "      <th>514</th>\n",
       "      <td>Selangor_Silvery_Langur</td>\n",
       "      <td>Malaysia</td>\n",
       "      <td>South East Asia</td>\n",
       "      <td>Folivore</td>\n",
       "      <td>1</td>\n",
       "      <td>1</td>\n",
       "      <td>0</td>\n",
       "      <td>0</td>\n",
       "      <td>0</td>\n",
       "      <td>0</td>\n",
       "      <td>0</td>\n",
       "      <td>0</td>\n",
       "      <td>0</td>\n",
       "    </tr>\n",
       "    <tr>\n",
       "      <th>515</th>\n",
       "      <td>Shortridge_s_Langur</td>\n",
       "      <td>Birmania</td>\n",
       "      <td>South East Asia</td>\n",
       "      <td>Folivore</td>\n",
       "      <td>1</td>\n",
       "      <td>1</td>\n",
       "      <td>0</td>\n",
       "      <td>0</td>\n",
       "      <td>0</td>\n",
       "      <td>0</td>\n",
       "      <td>0</td>\n",
       "      <td>0</td>\n",
       "      <td>0</td>\n",
       "    </tr>\n",
       "    <tr>\n",
       "      <th>516</th>\n",
       "      <td>Red_Ruffed_Lemur</td>\n",
       "      <td>Madagascar</td>\n",
       "      <td>Madagascar</td>\n",
       "      <td>Frugivore</td>\n",
       "      <td>1</td>\n",
       "      <td>1</td>\n",
       "      <td>1</td>\n",
       "      <td>0</td>\n",
       "      <td>0</td>\n",
       "      <td>0</td>\n",
       "      <td>0</td>\n",
       "      <td>0</td>\n",
       "      <td>0</td>\n",
       "    </tr>\n",
       "    <tr>\n",
       "      <th>517</th>\n",
       "      <td>Black_and_white_Ruffed_Lemur</td>\n",
       "      <td>Madagascar</td>\n",
       "      <td>Madagascar</td>\n",
       "      <td>Frugivore</td>\n",
       "      <td>1</td>\n",
       "      <td>1</td>\n",
       "      <td>0</td>\n",
       "      <td>0</td>\n",
       "      <td>0</td>\n",
       "      <td>0</td>\n",
       "      <td>0</td>\n",
       "      <td>0</td>\n",
       "      <td>0</td>\n",
       "    </tr>\n",
       "  </tbody>\n",
       "</table>\n",
       "<p>518 rows × 13 columns</p>\n",
       "</div>"
      ],
      "text/plain": [
       "                       CommonName     Country             Region TrophicGuild  \\\n",
       "0            Allen_s_Swamp_Monkey       Congo        West Africa    Frugivore   \n",
       "1         Hairy_eared_Dwarf_Lemur  Madagascar         Madagascar     Omnivore   \n",
       "2                L_Hoest_s_Monkey       Congo        West Africa     Omnivore   \n",
       "3                 Preuss_s_Monkey    Cameroon  North West Africa     Omnivore   \n",
       "4               Sun_tailed_Monkey       Congo        West Africa     Omnivore   \n",
       "..                            ...         ...                ...          ...   \n",
       "513                 Cat_Ba_Langur     Vietnam    South East Asia     Folivore   \n",
       "514       Selangor_Silvery_Langur    Malaysia    South East Asia     Folivore   \n",
       "515           Shortridge_s_Langur    Birmania    South East Asia     Folivore   \n",
       "516              Red_Ruffed_Lemur  Madagascar         Madagascar    Frugivore   \n",
       "517  Black_and_white_Ruffed_Lemur  Madagascar         Madagascar    Frugivore   \n",
       "\n",
       "    Fruit Leaves Flowers Seeds Gums Nectar Animal Insects Other  \n",
       "0       1      1       0     0    0      0      1       0     0  \n",
       "1       1      1       0     0    0      0      1       0     0  \n",
       "2       1      1       0     1    0      0      1       0     0  \n",
       "3       1      1       0     0    0      0      0       0     0  \n",
       "4       1      1       0     0    0      0      1       0     0  \n",
       "..    ...    ...     ...   ...  ...    ...    ...     ...   ...  \n",
       "513     1      1       0     0    0      0      0       0     0  \n",
       "514     1      1       0     0    0      0      0       0     0  \n",
       "515     1      1       0     0    0      0      0       0     0  \n",
       "516     1      1       1     0    0      0      0       0     0  \n",
       "517     1      1       0     0    0      0      0       0     0  \n",
       "\n",
       "[518 rows x 13 columns]"
      ]
     },
     "execution_count": 284,
     "metadata": {},
     "output_type": "execute_result"
    }
   ],
   "source": [
    "df.reindex(columns=['CommonName','Country','Region','TrophicGuild','Fruit','Leaves', 'Flowers', 'Seeds', 'Gums', 'Nectar', 'Animal', 'Insects', 'Other'])"
   ]
  },
  {
   "cell_type": "code",
   "execution_count": 285,
   "metadata": {},
   "outputs": [],
   "source": [
    "df.to_csv('trophicguild_firststep.csv')"
   ]
  },
  {
   "cell_type": "code",
   "execution_count": 286,
   "metadata": {},
   "outputs": [],
   "source": [
    "os.chdir('/Users/lucilleartigaud/Ironhack/Cours/806_Repo/Projects/PROJECT_WEEK_5/Cleaned DF')\n",
    "df1=pd.read_csv('joined_habitat_IUCN_weight_homerange_locomotion_activity.csv', encoding='latin-1')\n",
    "\n",
    "df_joined = df.set_index('CommonName').join(df1.set_index('CommonName'))\n",
    "df_joined.to_csv('DATABASE-MONKEYS.csv')"
   ]
  },
  {
   "cell_type": "code",
   "execution_count": 289,
   "metadata": {},
   "outputs": [
    {
     "data": {
      "text/html": [
       "<div>\n",
       "<style scoped>\n",
       "    .dataframe tbody tr th:only-of-type {\n",
       "        vertical-align: middle;\n",
       "    }\n",
       "\n",
       "    .dataframe tbody tr th {\n",
       "        vertical-align: top;\n",
       "    }\n",
       "\n",
       "    .dataframe thead th {\n",
       "        text-align: right;\n",
       "    }\n",
       "</style>\n",
       "<table border=\"1\" class=\"dataframe\">\n",
       "  <thead>\n",
       "    <tr style=\"text-align: right;\">\n",
       "      <th></th>\n",
       "      <th>Unnamed: 0</th>\n",
       "      <th>Unnamed: 0.1</th>\n",
       "      <th>TrophicGuild</th>\n",
       "      <th>Fruit</th>\n",
       "      <th>Leaves</th>\n",
       "      <th>Flowers</th>\n",
       "      <th>Seeds</th>\n",
       "      <th>Animal</th>\n",
       "      <th>Gums</th>\n",
       "      <th>Nectar</th>\n",
       "      <th>...</th>\n",
       "      <th>HomeRange_ha</th>\n",
       "      <th>Status</th>\n",
       "      <th>Habitat_Forest</th>\n",
       "      <th>Habitat_Savanna</th>\n",
       "      <th>Habitat_Shrubland</th>\n",
       "      <th>Habitat_Grassland</th>\n",
       "      <th>Habitat_Wetlands</th>\n",
       "      <th>Habitat_Rocky areas</th>\n",
       "      <th>Habitat_Desert</th>\n",
       "      <th>Average_Weight</th>\n",
       "    </tr>\n",
       "    <tr>\n",
       "      <th>CommonName</th>\n",
       "      <th></th>\n",
       "      <th></th>\n",
       "      <th></th>\n",
       "      <th></th>\n",
       "      <th></th>\n",
       "      <th></th>\n",
       "      <th></th>\n",
       "      <th></th>\n",
       "      <th></th>\n",
       "      <th></th>\n",
       "      <th></th>\n",
       "      <th></th>\n",
       "      <th></th>\n",
       "      <th></th>\n",
       "      <th></th>\n",
       "      <th></th>\n",
       "      <th></th>\n",
       "      <th></th>\n",
       "      <th></th>\n",
       "      <th></th>\n",
       "      <th></th>\n",
       "    </tr>\n",
       "  </thead>\n",
       "  <tbody>\n",
       "    <tr>\n",
       "      <th>Allen_s_Swamp_Monkey</th>\n",
       "      <td>0</td>\n",
       "      <td>0</td>\n",
       "      <td>Frugivore</td>\n",
       "      <td>1</td>\n",
       "      <td>1</td>\n",
       "      <td>0</td>\n",
       "      <td>0</td>\n",
       "      <td>1</td>\n",
       "      <td>0</td>\n",
       "      <td>0</td>\n",
       "      <td>...</td>\n",
       "      <td>NaN</td>\n",
       "      <td>LC</td>\n",
       "      <td>1.0</td>\n",
       "      <td>0.0</td>\n",
       "      <td>0.0</td>\n",
       "      <td>0.0</td>\n",
       "      <td>1.0</td>\n",
       "      <td>0.0</td>\n",
       "      <td>0.0</td>\n",
       "      <td>5.30</td>\n",
       "    </tr>\n",
       "    <tr>\n",
       "      <th>Hairy_eared_Dwarf_Lemur</th>\n",
       "      <td>1</td>\n",
       "      <td>1</td>\n",
       "      <td>Omnivore</td>\n",
       "      <td>1</td>\n",
       "      <td>1</td>\n",
       "      <td>0</td>\n",
       "      <td>0</td>\n",
       "      <td>1</td>\n",
       "      <td>0</td>\n",
       "      <td>0</td>\n",
       "      <td>...</td>\n",
       "      <td>25.75</td>\n",
       "      <td>VU</td>\n",
       "      <td>1.0</td>\n",
       "      <td>0.0</td>\n",
       "      <td>0.0</td>\n",
       "      <td>0.0</td>\n",
       "      <td>0.0</td>\n",
       "      <td>0.0</td>\n",
       "      <td>0.0</td>\n",
       "      <td>0.08</td>\n",
       "    </tr>\n",
       "    <tr>\n",
       "      <th>L_Hoest_s_Monkey</th>\n",
       "      <td>2</td>\n",
       "      <td>2</td>\n",
       "      <td>Omnivore</td>\n",
       "      <td>1</td>\n",
       "      <td>1</td>\n",
       "      <td>0</td>\n",
       "      <td>1</td>\n",
       "      <td>1</td>\n",
       "      <td>0</td>\n",
       "      <td>0</td>\n",
       "      <td>...</td>\n",
       "      <td>116.60</td>\n",
       "      <td>VU</td>\n",
       "      <td>1.0</td>\n",
       "      <td>0.0</td>\n",
       "      <td>1.0</td>\n",
       "      <td>0.0</td>\n",
       "      <td>1.0</td>\n",
       "      <td>0.0</td>\n",
       "      <td>0.0</td>\n",
       "      <td>5.00</td>\n",
       "    </tr>\n",
       "    <tr>\n",
       "      <th>Preuss_s_Monkey</th>\n",
       "      <td>3</td>\n",
       "      <td>3</td>\n",
       "      <td>Omnivore</td>\n",
       "      <td>1</td>\n",
       "      <td>1</td>\n",
       "      <td>0</td>\n",
       "      <td>0</td>\n",
       "      <td>0</td>\n",
       "      <td>0</td>\n",
       "      <td>0</td>\n",
       "      <td>...</td>\n",
       "      <td>NaN</td>\n",
       "      <td>EN</td>\n",
       "      <td>1.0</td>\n",
       "      <td>0.0</td>\n",
       "      <td>0.0</td>\n",
       "      <td>0.0</td>\n",
       "      <td>0.0</td>\n",
       "      <td>0.0</td>\n",
       "      <td>0.0</td>\n",
       "      <td>3.80</td>\n",
       "    </tr>\n",
       "    <tr>\n",
       "      <th>Sun_tailed_Monkey</th>\n",
       "      <td>4</td>\n",
       "      <td>4</td>\n",
       "      <td>Omnivore</td>\n",
       "      <td>1</td>\n",
       "      <td>1</td>\n",
       "      <td>0</td>\n",
       "      <td>0</td>\n",
       "      <td>1</td>\n",
       "      <td>0</td>\n",
       "      <td>0</td>\n",
       "      <td>...</td>\n",
       "      <td>NaN</td>\n",
       "      <td>VU</td>\n",
       "      <td>1.0</td>\n",
       "      <td>0.0</td>\n",
       "      <td>0.0</td>\n",
       "      <td>0.0</td>\n",
       "      <td>0.0</td>\n",
       "      <td>0.0</td>\n",
       "      <td>0.0</td>\n",
       "      <td>5.40</td>\n",
       "    </tr>\n",
       "    <tr>\n",
       "      <th>...</th>\n",
       "      <td>...</td>\n",
       "      <td>...</td>\n",
       "      <td>...</td>\n",
       "      <td>...</td>\n",
       "      <td>...</td>\n",
       "      <td>...</td>\n",
       "      <td>...</td>\n",
       "      <td>...</td>\n",
       "      <td>...</td>\n",
       "      <td>...</td>\n",
       "      <td>...</td>\n",
       "      <td>...</td>\n",
       "      <td>...</td>\n",
       "      <td>...</td>\n",
       "      <td>...</td>\n",
       "      <td>...</td>\n",
       "      <td>...</td>\n",
       "      <td>...</td>\n",
       "      <td>...</td>\n",
       "      <td>...</td>\n",
       "      <td>...</td>\n",
       "    </tr>\n",
       "    <tr>\n",
       "      <th>Cat_Ba_Langur</th>\n",
       "      <td>513</td>\n",
       "      <td>564</td>\n",
       "      <td>Folivore</td>\n",
       "      <td>1</td>\n",
       "      <td>1</td>\n",
       "      <td>0</td>\n",
       "      <td>0</td>\n",
       "      <td>0</td>\n",
       "      <td>0</td>\n",
       "      <td>0</td>\n",
       "      <td>...</td>\n",
       "      <td>30.00</td>\n",
       "      <td>CR</td>\n",
       "      <td>1.0</td>\n",
       "      <td>0.0</td>\n",
       "      <td>1.0</td>\n",
       "      <td>0.0</td>\n",
       "      <td>0.0</td>\n",
       "      <td>0.0</td>\n",
       "      <td>0.0</td>\n",
       "      <td>8.05</td>\n",
       "    </tr>\n",
       "    <tr>\n",
       "      <th>Selangor_Silvery_Langur</th>\n",
       "      <td>514</td>\n",
       "      <td>565</td>\n",
       "      <td>Folivore</td>\n",
       "      <td>1</td>\n",
       "      <td>1</td>\n",
       "      <td>0</td>\n",
       "      <td>0</td>\n",
       "      <td>0</td>\n",
       "      <td>0</td>\n",
       "      <td>0</td>\n",
       "      <td>...</td>\n",
       "      <td>31.50</td>\n",
       "      <td>NE</td>\n",
       "      <td>1.0</td>\n",
       "      <td>0.0</td>\n",
       "      <td>0.0</td>\n",
       "      <td>0.0</td>\n",
       "      <td>0.0</td>\n",
       "      <td>0.0</td>\n",
       "      <td>0.0</td>\n",
       "      <td>NaN</td>\n",
       "    </tr>\n",
       "    <tr>\n",
       "      <th>Shortridge_s_Langur</th>\n",
       "      <td>515</td>\n",
       "      <td>566</td>\n",
       "      <td>Folivore</td>\n",
       "      <td>1</td>\n",
       "      <td>1</td>\n",
       "      <td>0</td>\n",
       "      <td>0</td>\n",
       "      <td>0</td>\n",
       "      <td>0</td>\n",
       "      <td>0</td>\n",
       "      <td>...</td>\n",
       "      <td>NaN</td>\n",
       "      <td>EN</td>\n",
       "      <td>1.0</td>\n",
       "      <td>0.0</td>\n",
       "      <td>0.0</td>\n",
       "      <td>0.0</td>\n",
       "      <td>0.0</td>\n",
       "      <td>0.0</td>\n",
       "      <td>0.0</td>\n",
       "      <td>NaN</td>\n",
       "    </tr>\n",
       "    <tr>\n",
       "      <th>Red_Ruffed_Lemur</th>\n",
       "      <td>516</td>\n",
       "      <td>567</td>\n",
       "      <td>Frugivore</td>\n",
       "      <td>1</td>\n",
       "      <td>1</td>\n",
       "      <td>1</td>\n",
       "      <td>0</td>\n",
       "      <td>0</td>\n",
       "      <td>0</td>\n",
       "      <td>0</td>\n",
       "      <td>...</td>\n",
       "      <td>24.55</td>\n",
       "      <td>CR</td>\n",
       "      <td>1.0</td>\n",
       "      <td>0.0</td>\n",
       "      <td>0.0</td>\n",
       "      <td>0.0</td>\n",
       "      <td>0.0</td>\n",
       "      <td>0.0</td>\n",
       "      <td>0.0</td>\n",
       "      <td>3.51</td>\n",
       "    </tr>\n",
       "    <tr>\n",
       "      <th>Black_and_white_Ruffed_Lemur</th>\n",
       "      <td>517</td>\n",
       "      <td>568</td>\n",
       "      <td>Frugivore</td>\n",
       "      <td>1</td>\n",
       "      <td>1</td>\n",
       "      <td>0</td>\n",
       "      <td>0</td>\n",
       "      <td>0</td>\n",
       "      <td>0</td>\n",
       "      <td>0</td>\n",
       "      <td>...</td>\n",
       "      <td>116.67</td>\n",
       "      <td>CR</td>\n",
       "      <td>1.0</td>\n",
       "      <td>0.0</td>\n",
       "      <td>0.0</td>\n",
       "      <td>0.0</td>\n",
       "      <td>0.0</td>\n",
       "      <td>0.0</td>\n",
       "      <td>0.0</td>\n",
       "      <td>3.58</td>\n",
       "    </tr>\n",
       "  </tbody>\n",
       "</table>\n",
       "<p>518 rows × 26 columns</p>\n",
       "</div>"
      ],
      "text/plain": [
       "                              Unnamed: 0  Unnamed: 0.1 TrophicGuild Fruit  \\\n",
       "CommonName                                                                  \n",
       "Allen_s_Swamp_Monkey                   0             0    Frugivore     1   \n",
       "Hairy_eared_Dwarf_Lemur                1             1     Omnivore     1   \n",
       "L_Hoest_s_Monkey                       2             2     Omnivore     1   \n",
       "Preuss_s_Monkey                        3             3     Omnivore     1   \n",
       "Sun_tailed_Monkey                      4             4     Omnivore     1   \n",
       "...                                  ...           ...          ...   ...   \n",
       "Cat_Ba_Langur                        513           564     Folivore     1   \n",
       "Selangor_Silvery_Langur              514           565     Folivore     1   \n",
       "Shortridge_s_Langur                  515           566     Folivore     1   \n",
       "Red_Ruffed_Lemur                     516           567    Frugivore     1   \n",
       "Black_and_white_Ruffed_Lemur         517           568    Frugivore     1   \n",
       "\n",
       "                             Leaves Flowers Seeds Animal Gums Nectar  ...  \\\n",
       "CommonName                                                            ...   \n",
       "Allen_s_Swamp_Monkey              1       0     0      1    0      0  ...   \n",
       "Hairy_eared_Dwarf_Lemur           1       0     0      1    0      0  ...   \n",
       "L_Hoest_s_Monkey                  1       0     1      1    0      0  ...   \n",
       "Preuss_s_Monkey                   1       0     0      0    0      0  ...   \n",
       "Sun_tailed_Monkey                 1       0     0      1    0      0  ...   \n",
       "...                             ...     ...   ...    ...  ...    ...  ...   \n",
       "Cat_Ba_Langur                     1       0     0      0    0      0  ...   \n",
       "Selangor_Silvery_Langur           1       0     0      0    0      0  ...   \n",
       "Shortridge_s_Langur               1       0     0      0    0      0  ...   \n",
       "Red_Ruffed_Lemur                  1       1     0      0    0      0  ...   \n",
       "Black_and_white_Ruffed_Lemur      1       0     0      0    0      0  ...   \n",
       "\n",
       "                             HomeRange_ha Status Habitat_Forest  \\\n",
       "CommonName                                                        \n",
       "Allen_s_Swamp_Monkey                  NaN     LC            1.0   \n",
       "Hairy_eared_Dwarf_Lemur             25.75     VU            1.0   \n",
       "L_Hoest_s_Monkey                   116.60     VU            1.0   \n",
       "Preuss_s_Monkey                       NaN     EN            1.0   \n",
       "Sun_tailed_Monkey                     NaN     VU            1.0   \n",
       "...                                   ...    ...            ...   \n",
       "Cat_Ba_Langur                       30.00     CR            1.0   \n",
       "Selangor_Silvery_Langur             31.50     NE            1.0   \n",
       "Shortridge_s_Langur                   NaN     EN            1.0   \n",
       "Red_Ruffed_Lemur                    24.55     CR            1.0   \n",
       "Black_and_white_Ruffed_Lemur       116.67     CR            1.0   \n",
       "\n",
       "                             Habitat_Savanna Habitat_Shrubland  \\\n",
       "CommonName                                                       \n",
       "Allen_s_Swamp_Monkey                     0.0               0.0   \n",
       "Hairy_eared_Dwarf_Lemur                  0.0               0.0   \n",
       "L_Hoest_s_Monkey                         0.0               1.0   \n",
       "Preuss_s_Monkey                          0.0               0.0   \n",
       "Sun_tailed_Monkey                        0.0               0.0   \n",
       "...                                      ...               ...   \n",
       "Cat_Ba_Langur                            0.0               1.0   \n",
       "Selangor_Silvery_Langur                  0.0               0.0   \n",
       "Shortridge_s_Langur                      0.0               0.0   \n",
       "Red_Ruffed_Lemur                         0.0               0.0   \n",
       "Black_and_white_Ruffed_Lemur             0.0               0.0   \n",
       "\n",
       "                             Habitat_Grassland  Habitat_Wetlands  \\\n",
       "CommonName                                                         \n",
       "Allen_s_Swamp_Monkey                       0.0               1.0   \n",
       "Hairy_eared_Dwarf_Lemur                    0.0               0.0   \n",
       "L_Hoest_s_Monkey                           0.0               1.0   \n",
       "Preuss_s_Monkey                            0.0               0.0   \n",
       "Sun_tailed_Monkey                          0.0               0.0   \n",
       "...                                        ...               ...   \n",
       "Cat_Ba_Langur                              0.0               0.0   \n",
       "Selangor_Silvery_Langur                    0.0               0.0   \n",
       "Shortridge_s_Langur                        0.0               0.0   \n",
       "Red_Ruffed_Lemur                           0.0               0.0   \n",
       "Black_and_white_Ruffed_Lemur               0.0               0.0   \n",
       "\n",
       "                             Habitat_Rocky areas  Habitat_Desert  \\\n",
       "CommonName                                                         \n",
       "Allen_s_Swamp_Monkey                         0.0             0.0   \n",
       "Hairy_eared_Dwarf_Lemur                      0.0             0.0   \n",
       "L_Hoest_s_Monkey                             0.0             0.0   \n",
       "Preuss_s_Monkey                              0.0             0.0   \n",
       "Sun_tailed_Monkey                            0.0             0.0   \n",
       "...                                          ...             ...   \n",
       "Cat_Ba_Langur                                0.0             0.0   \n",
       "Selangor_Silvery_Langur                      0.0             0.0   \n",
       "Shortridge_s_Langur                          0.0             0.0   \n",
       "Red_Ruffed_Lemur                             0.0             0.0   \n",
       "Black_and_white_Ruffed_Lemur                 0.0             0.0   \n",
       "\n",
       "                              Average_Weight  \n",
       "CommonName                                    \n",
       "Allen_s_Swamp_Monkey                    5.30  \n",
       "Hairy_eared_Dwarf_Lemur                 0.08  \n",
       "L_Hoest_s_Monkey                        5.00  \n",
       "Preuss_s_Monkey                         3.80  \n",
       "Sun_tailed_Monkey                       5.40  \n",
       "...                                      ...  \n",
       "Cat_Ba_Langur                           8.05  \n",
       "Selangor_Silvery_Langur                  NaN  \n",
       "Shortridge_s_Langur                      NaN  \n",
       "Red_Ruffed_Lemur                        3.51  \n",
       "Black_and_white_Ruffed_Lemur            3.58  \n",
       "\n",
       "[518 rows x 26 columns]"
      ]
     },
     "execution_count": 289,
     "metadata": {},
     "output_type": "execute_result"
    }
   ],
   "source": [
    "df_joined"
   ]
  },
  {
   "cell_type": "code",
   "execution_count": null,
   "metadata": {},
   "outputs": [],
   "source": []
  }
 ],
 "metadata": {
  "kernelspec": {
   "display_name": "Python 3",
   "language": "python",
   "name": "python3"
  },
  "language_info": {
   "codemirror_mode": {
    "name": "ipython",
    "version": 3
   },
   "file_extension": ".py",
   "mimetype": "text/x-python",
   "name": "python",
   "nbconvert_exporter": "python",
   "pygments_lexer": "ipython3",
   "version": "3.7.6"
  }
 },
 "nbformat": 4,
 "nbformat_minor": 4
}
